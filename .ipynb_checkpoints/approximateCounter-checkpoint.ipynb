{
 "cells": [
  {
   "cell_type": "code",
   "execution_count": 1,
   "id": "246818e6-3691-45cb-95df-1e69f76de634",
   "metadata": {},
   "outputs": [],
   "source": [
    "from random import random\n",
    "\n",
    "\n",
    "class MorrisCounter:\n",
    "    counter = 0\n",
    "\n",
    "    def add(self, *args):\n",
    "        if random() < 1.0 / (2 ** self.counter):   #change random to random.uniform(0,1) cam change this\n",
    "            self.counter += 1\n",
    "\n",
    "    def __len__(self):\n",
    "        return int(2 ** self.counter)\n",
    "\n",
    "    "
   ]
  },
  {
   "cell_type": "code",
   "execution_count": 4,
   "id": "1cd5cf42-8258-42f1-bf13-cb6abc92b888",
   "metadata": {},
   "outputs": [
    {
     "data": {
      "text/plain": [
       "1"
      ]
     },
     "execution_count": 4,
     "metadata": {},
     "output_type": "execute_result"
    }
   ],
   "source": [
    "mc = MorrisCounter()\n",
    "len(mc)"
   ]
  },
  {
   "cell_type": "code",
   "execution_count": 5,
   "id": "0a3f7bd0-bc52-43d8-bdcb-40fb93983008",
   "metadata": {},
   "outputs": [],
   "source": [
    "mc.add()"
   ]
  },
  {
   "cell_type": "code",
   "execution_count": 6,
   "id": "2fbe6765-1989-4b8d-b3a9-358fd1c3c641",
   "metadata": {},
   "outputs": [
    {
     "data": {
      "text/plain": [
       "2"
      ]
     },
     "execution_count": 6,
     "metadata": {},
     "output_type": "execute_result"
    }
   ],
   "source": [
    "len(mc)"
   ]
  },
  {
   "cell_type": "code",
   "execution_count": 7,
   "id": "19a54629-8a5d-49f0-b522-08567493f661",
   "metadata": {},
   "outputs": [],
   "source": [
    "mc.add()"
   ]
  },
  {
   "cell_type": "code",
   "execution_count": 8,
   "id": "cca5dafe-9719-4086-815f-2bc5a0c9e9f1",
   "metadata": {},
   "outputs": [
    {
     "data": {
      "text/plain": [
       "4"
      ]
     },
     "execution_count": 8,
     "metadata": {},
     "output_type": "execute_result"
    }
   ],
   "source": [
    "len(mc)"
   ]
  },
  {
   "cell_type": "code",
   "execution_count": 9,
   "id": "fdee21e7-cd4b-4a73-9729-eaf92241c25d",
   "metadata": {},
   "outputs": [],
   "source": [
    "mc.add()"
   ]
  },
  {
   "cell_type": "code",
   "execution_count": 10,
   "id": "2f51fa35-55ad-46af-b044-6190fffe6f96",
   "metadata": {},
   "outputs": [
    {
     "data": {
      "text/plain": [
       "8"
      ]
     },
     "execution_count": 10,
     "metadata": {},
     "output_type": "execute_result"
    }
   ],
   "source": [
    "len(mc)"
   ]
  },
  {
   "cell_type": "code",
   "execution_count": 16,
   "id": "99d7040a-5ec1-4ebb-9d99-3689b0475ea9",
   "metadata": {},
   "outputs": [],
   "source": [
    "import random\n",
    "import math\n",
    "import array\n",
    "\n",
    "SMALLEST_UNSIGNED_INTEGER = 'B'   #unsigned char, typically 1 byte   \n",
    "#max could count approximately where use a single unsigned byte for the exponent is math.pow(2, 255) == 5e76\n",
    "\n",
    "class MorrisCounter:\n",
    "    counter = 0\n",
    "\n",
    "    def __init__(self, type_code=SMALLEST_UNSIGNED_INTEGER, nbr_counters=1):\n",
    "        self.exponents = array.array(type_code, [0] * nbr_counters)\n",
    "        print(self.exponents)\n",
    "        \n",
    "    def add(self, counter=0):\n",
    "        value = self.get(counter)\n",
    "        probability = 1.0 / value\n",
    "        if random.uniform(0,1) < probability:\n",
    "            self.exponents[counter] += 1\n",
    "\n",
    "    def __len__(self):\n",
    "        return len(self.exponents)\n",
    "\n",
    "    def add_counter(self):\n",
    "        \"\"\"add a new zeroed counter\"\"\"\n",
    "        self.exponents.append(0)\n",
    "\n",
    "    def get(self,counter=0):\n",
    "        \"\"\"calculate approximate value represented by counter\"\"\"\n",
    "        return math.pow(2, self.exponents[counter])"
   ]
  },
  {
   "cell_type": "code",
   "execution_count": 17,
   "id": "01ab8d2b-6aaf-4ecd-a18c-c9eda3121eed",
   "metadata": {},
   "outputs": [
    {
     "name": "stdout",
     "output_type": "stream",
     "text": [
      "array('B', [0])\n"
     ]
    }
   ],
   "source": [
    "mc = MorrisCounter()"
   ]
  },
  {
   "cell_type": "code",
   "execution_count": 18,
   "id": "b9f0d38f-c721-4899-b9c1-26dc6b351308",
   "metadata": {},
   "outputs": [
    {
     "data": {
      "text/plain": [
       "1.0"
      ]
     },
     "execution_count": 18,
     "metadata": {},
     "output_type": "execute_result"
    }
   ],
   "source": [
    "mc.get()"
   ]
  },
  {
   "cell_type": "code",
   "execution_count": 19,
   "id": "c8700029-ccdb-4fc2-bd82-9221e0778ddd",
   "metadata": {},
   "outputs": [],
   "source": [
    "mc.add()"
   ]
  },
  {
   "cell_type": "code",
   "execution_count": 20,
   "id": "a5f6228a-0a04-4412-87e5-080f469bfe03",
   "metadata": {},
   "outputs": [
    {
     "data": {
      "text/plain": [
       "2.0"
      ]
     },
     "execution_count": 20,
     "metadata": {},
     "output_type": "execute_result"
    }
   ],
   "source": [
    "mc.get()"
   ]
  },
  {
   "cell_type": "code",
   "execution_count": 21,
   "id": "db9fb17d-a820-4a76-ace0-0ba602566a26",
   "metadata": {},
   "outputs": [],
   "source": [
    "mc.add()"
   ]
  },
  {
   "cell_type": "code",
   "execution_count": 22,
   "id": "bcca019c-addf-447e-8b97-8fcdc324140b",
   "metadata": {},
   "outputs": [
    {
     "data": {
      "text/plain": [
       "4.0"
      ]
     },
     "execution_count": 22,
     "metadata": {},
     "output_type": "execute_result"
    }
   ],
   "source": [
    "mc.get()"
   ]
  },
  {
   "cell_type": "code",
   "execution_count": 23,
   "id": "a35f21bd-ba5a-400f-a76d-70eb1b8cbab3",
   "metadata": {},
   "outputs": [],
   "source": [
    "mc.add()"
   ]
  },
  {
   "cell_type": "code",
   "execution_count": 24,
   "id": "2bd335a5-72dd-475b-8618-df2d70ba52f2",
   "metadata": {},
   "outputs": [
    {
     "data": {
      "text/plain": [
       "4.0"
      ]
     },
     "execution_count": 24,
     "metadata": {},
     "output_type": "execute_result"
    }
   ],
   "source": [
    "mc.get()"
   ]
  },
  {
   "cell_type": "code",
   "execution_count": 25,
   "id": "8b2461b6-9cad-47a7-83fc-645ae300a5e5",
   "metadata": {},
   "outputs": [
    {
     "data": {
      "text/plain": [
       "array('B', [2])"
      ]
     },
     "execution_count": 25,
     "metadata": {},
     "output_type": "execute_result"
    }
   ],
   "source": [
    "mc.exponents"
   ]
  }
 ],
 "metadata": {
  "kernelspec": {
   "display_name": "Python 3 (ipykernel)",
   "language": "python",
   "name": "python3"
  },
  "language_info": {
   "codemirror_mode": {
    "name": "ipython",
    "version": 3
   },
   "file_extension": ".py",
   "mimetype": "text/x-python",
   "name": "python",
   "nbconvert_exporter": "python",
   "pygments_lexer": "ipython3",
   "version": "3.11.9"
  }
 },
 "nbformat": 4,
 "nbformat_minor": 5
}
