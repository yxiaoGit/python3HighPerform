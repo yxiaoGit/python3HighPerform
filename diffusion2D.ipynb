{
 "cells": [
  {
   "cell_type": "code",
   "execution_count": null,
   "id": "f80a0409-9f51-4483-b735-79dc872f05d1",
   "metadata": {},
   "outputs": [],
   "source": [
    "## diffusion_2d python "
   ]
  },
  {
   "cell_type": "code",
   "execution_count": 4,
   "id": "581ebee2-978d-4061-a5c8-51dd8ace36b1",
   "metadata": {},
   "outputs": [
    {
     "name": "stdout",
     "output_type": "stream",
     "text": [
      "41.964531898498535\n"
     ]
    }
   ],
   "source": [
    "#!/usr/bin/env python3\n",
    "\n",
    "import time\n",
    "\n",
    "try:\n",
    "    profile\n",
    "except NameError:\n",
    "    profile = lambda x: x\n",
    "\n",
    "grid_shape = (640, 640)\n",
    "\n",
    "\n",
    "@profile\n",
    "def evolve(grid, dt, D=1.0):\n",
    "    xmax, ymax = grid_shape\n",
    "    new_grid = [[0.0 for x in range(grid_shape[1])] for x in range(grid_shape[0])]\n",
    "    for i in range(xmax):\n",
    "        for j in range(ymax):\n",
    "            grid_xx = (\n",
    "                grid[(i + 1) % xmax][j] + grid[(i - 1) % xmax][j] - 2.0 * grid[i][j]\n",
    "            )\n",
    "            grid_yy = (\n",
    "                grid[i][(j + 1) % ymax] + grid[i][(j - 1) % ymax] - 2.0 * grid[i][j]\n",
    "            )\n",
    "            new_grid[i][j] = grid[i][j] + D * (grid_xx + grid_yy) * dt\n",
    "    return new_grid\n",
    "\n",
    "\n",
    "def run_experiment(num_iterations):\n",
    "    # setting up initial conditions\n",
    "    grid = [[0.0 for x in range(grid_shape[1])] for x in range(grid_shape[0])]\n",
    "\n",
    "    block_low = int(grid_shape[0] * 0.4)\n",
    "    block_high = int(grid_shape[0] * 0.5)\n",
    "    for i in range(block_low, block_high):\n",
    "        for j in range(block_low, block_high):\n",
    "            grid[i][j] = 0.005\n",
    "\n",
    "    start = time.time()\n",
    "    for i in range(num_iterations):\n",
    "        grid = evolve(grid, 0.1)\n",
    "    return time.time() - start\n",
    "\n",
    "run_experiment(500)\n",
    "#if __name__ == \"__main__\":\n",
    "#    run_experiment(500)"
   ]
  },
  {
   "cell_type": "code",
   "execution_count": null,
   "id": "0d534d52-58a5-4407-8dc8-fffa10d42928",
   "metadata": {},
   "outputs": [],
   "source": [
    "## difusion_2D use in memory grid to continue next round of calculation"
   ]
  },
  {
   "cell_type": "code",
   "execution_count": 5,
   "id": "d9d6c9af-0b5d-413d-a5e5-c14a274d627a",
   "metadata": {},
   "outputs": [
    {
     "data": {
      "text/plain": [
       "38.64563202857971"
      ]
     },
     "execution_count": 5,
     "metadata": {},
     "output_type": "execute_result"
    }
   ],
   "source": [
    "#!/usr/bin/env python3\n",
    "\n",
    "import time\n",
    "\n",
    "try:\n",
    "    profile\n",
    "except NameError:\n",
    "    profile = lambda x: x\n",
    "\n",
    "grid_shape = (640, 640)\n",
    "\n",
    "\n",
    "@profile\n",
    "def evolve(grid, dt, out, D=1.0):\n",
    "    xmax, ymax = grid_shape\n",
    "    for i in range(xmax):\n",
    "        for j in range(ymax):\n",
    "            grid_xx = (\n",
    "                grid[(i + 1) % xmax][j] + grid[(i - 1) % xmax][j] - 2.0 * grid[i][j]\n",
    "            )\n",
    "            grid_yy = (\n",
    "                grid[i][(j + 1) % ymax] + grid[i][(j - 1) % ymax] - 2.0 * grid[i][j]\n",
    "            )\n",
    "            out[i][j] = grid[i][j] + D * (grid_xx + grid_yy) * dt\n",
    "\n",
    "\n",
    "def run_experiment(num_iterations):\n",
    "    # setting up initial conditions\n",
    "    scratch = [[0.0 for x in range(grid_shape[1])] for x in range(grid_shape[0])]\n",
    "    grid = [[0.0 for x in range(grid_shape[1])] for x in range(grid_shape[0])]\n",
    "\n",
    "    block_low = int(grid_shape[0] * 0.4)\n",
    "    block_high = int(grid_shape[0] * 0.5)\n",
    "    for i in range(block_low, block_high):\n",
    "        for j in range(block_low, block_high):\n",
    "            grid[i][j] = 0.005\n",
    "\n",
    "    start = time.time()\n",
    "    for i in range(num_iterations):\n",
    "        evolve(grid, 0.1, scratch)\n",
    "        grid, scratch = scratch, grid\n",
    "    return time.time() - start\n",
    "\n",
    "run_experiment(500)\n",
    "#if __name__ == \"__main__\":\n",
    "#    run_experiment(500)"
   ]
  },
  {
   "cell_type": "code",
   "execution_count": null,
   "id": "a3acf8f8-e726-4977-93bc-695ca71ddd8e",
   "metadata": {},
   "outputs": [],
   "source": [
    "## difusion_2D sci py "
   ]
  },
  {
   "cell_type": "code",
   "execution_count": 6,
   "id": "d10220cd-ab6d-410d-aaa4-2e86b3ed1def",
   "metadata": {},
   "outputs": [
    {
     "name": "stderr",
     "output_type": "stream",
     "text": [
      "/var/folders/nd/wyy84tcn57nbts1k2q5clhjr0000gn/T/ipykernel_2466/3677053735.py:6: DeprecationWarning: Please import `laplace` from the `scipy.ndimage` namespace; the `scipy.ndimage.filters` namespace is deprecated and will be removed in SciPy 2.0.0.\n",
      "  from scipy.ndimage.filters import laplace\n"
     ]
    },
    {
     "data": {
      "text/plain": [
       "1.232269048690796"
      ]
     },
     "execution_count": 6,
     "metadata": {},
     "output_type": "execute_result"
    }
   ],
   "source": [
    "#!/usr/bin/env python3\n",
    "\n",
    "import time\n",
    "\n",
    "from numpy import add, multiply, zeros\n",
    "from scipy.ndimage.filters import laplace\n",
    "\n",
    "try:\n",
    "    profile\n",
    "except NameError:\n",
    "    profile = lambda x: x\n",
    "\n",
    "grid_shape = (640, 640)\n",
    "\n",
    "\n",
    "def laplacian(grid, out):\n",
    "    laplace(grid, out, mode=\"wrap\")\n",
    "\n",
    "\n",
    "@profile\n",
    "def evolve(grid, dt, out, D=1):\n",
    "    laplacian(grid, out)\n",
    "    multiply(out, D * dt, out)\n",
    "    add(out, grid, grid)\n",
    "\n",
    "\n",
    "def run_experiment(num_iterations):\n",
    "    scratch = zeros(grid_shape)\n",
    "    grid = zeros(grid_shape)\n",
    "\n",
    "    block_low = int(grid_shape[0] * 0.4)\n",
    "    block_high = int(grid_shape[0] * 0.5)\n",
    "    grid[block_low:block_high, block_low:block_high] = 0.005\n",
    "\n",
    "    start = time.time()\n",
    "    for i in range(num_iterations):\n",
    "        evolve(grid, 0.1, scratch)\n",
    "    return time.time() - start\n",
    "\n",
    "run_experiment(500)\n",
    "#if __name__ == \"__main__\":\n",
    "#    run_experiment(500)"
   ]
  },
  {
   "cell_type": "code",
   "execution_count": null,
   "id": "23b53ea6-8789-41d7-bec5-1270e672488f",
   "metadata": {},
   "outputs": [],
   "source": [
    "## difusion_2D numpy native"
   ]
  },
  {
   "cell_type": "code",
   "execution_count": 8,
   "id": "e0155ab3-87f4-41c9-827d-fce3760ff6ca",
   "metadata": {},
   "outputs": [
    {
     "data": {
      "text/plain": [
       "0.9696230888366699"
      ]
     },
     "execution_count": 8,
     "metadata": {},
     "output_type": "execute_result"
    }
   ],
   "source": [
    "#!/usr/bin/env python3\n",
    "\n",
    "import time\n",
    "\n",
    "from numpy import roll, zeros\n",
    "\n",
    "try:\n",
    "    profile\n",
    "except NameError:\n",
    "    profile = lambda x: x\n",
    "\n",
    "grid_shape = (640, 640)\n",
    "\n",
    "\n",
    "def laplacian(grid):\n",
    "    return (\n",
    "        roll(grid, +1, 0)\n",
    "        + roll(grid, -1, 0)\n",
    "        + roll(grid, +1, 1)\n",
    "        + roll(grid, -1, 1)\n",
    "        - 4 * grid\n",
    "    )\n",
    "\n",
    "\n",
    "@profile\n",
    "def evolve(grid, dt, D=1):\n",
    "    return grid + dt * D * laplacian(grid)\n",
    "\n",
    "\n",
    "def run_experiment(num_iterations):\n",
    "    grid = zeros(grid_shape)\n",
    "\n",
    "    block_low = int(grid_shape[0] * 0.4)\n",
    "    block_high = int(grid_shape[0] * 0.5)\n",
    "    grid[block_low:block_high, block_low:block_high] = 0.005\n",
    "\n",
    "    start = time.time()\n",
    "    for i in range(num_iterations):\n",
    "        grid = evolve(grid, 0.1)\n",
    "    return time.time() - start\n",
    "\n",
    "run_experiment(500)\n",
    "#if __name__ == \"__main__\":\n",
    "#    run_experiment(500)"
   ]
  },
  {
   "cell_type": "code",
   "execution_count": null,
   "id": "83280504-0f80-42e9-877e-082f255cbf6e",
   "metadata": {},
   "outputs": [],
   "source": [
    "## numexpr threads version of diffusion_2D\n"
   ]
  },
  {
   "cell_type": "code",
   "execution_count": 12,
   "id": "d7bd5261-79db-4744-8e44-f0e2aff32be9",
   "metadata": {},
   "outputs": [
    {
     "data": {
      "text/plain": [
       "0.7607417106628418"
      ]
     },
     "execution_count": 12,
     "metadata": {},
     "output_type": "execute_result"
    }
   ],
   "source": [
    "#!/usr/bin/env python3\n",
    "\n",
    "import time\n",
    "\n",
    "from numexpr import evaluate, set_num_threads\n",
    "from numpy import copyto, multiply, zeros\n",
    "\n",
    "try:\n",
    "    profile\n",
    "except NameError:\n",
    "    profile = lambda x: x\n",
    "\n",
    "grid_shape = (640, 640)\n",
    "\n",
    "\n",
    "def roll_add(rollee, shift, axis, out):\n",
    "    if shift == 1 and axis == 0:\n",
    "        out[1:, :] += rollee[:-1, :]\n",
    "        out[0, :] += rollee[-1, :]\n",
    "    elif shift == -1 and axis == 0:\n",
    "        out[:-1, :] += rollee[1:, :]\n",
    "        out[-1, :] += rollee[0, :]\n",
    "    elif shift == 1 and axis == 1:\n",
    "        out[:, 1:] += rollee[:, :-1]\n",
    "        out[:, 0] += rollee[:, -1]\n",
    "    elif shift == -1 and axis == 1:\n",
    "        out[:, :-1] += rollee[:, 1:]\n",
    "        out[:, -1] += rollee[:, 0]\n",
    "\n",
    "\n",
    "def laplacian(grid, out):\n",
    "    copyto(out, grid)\n",
    "    multiply(out, -4.0, out)\n",
    "    roll_add(grid, +1, 0, out)\n",
    "    roll_add(grid, -1, 0, out)\n",
    "    roll_add(grid, +1, 1, out)\n",
    "    roll_add(grid, -1, 1, out)\n",
    "\n",
    "\n",
    "@profile\n",
    "def evolve(grid, dt, out, D=1):\n",
    "    laplacian(grid, out)\n",
    "    evaluate(\"out*D*dt+grid\", out=out)\n",
    "\n",
    "\n",
    "def run_experiment(num_iterations):\n",
    "    previous_threads = set_num_threads(4)\n",
    "\n",
    "    scratch = zeros(grid_shape)\n",
    "    grid = zeros(grid_shape)\n",
    "\n",
    "    block_low = int(grid_shape[0] * 0.4)\n",
    "    block_high = int(grid_shape[0] * 0.5)\n",
    "    grid[block_low:block_high, block_low:block_high] = 0.005\n",
    "\n",
    "    start = time.time()\n",
    "    for i in range(num_iterations):\n",
    "        evolve(grid, 0.1, scratch)\n",
    "        grid, scratch = scratch, grid\n",
    "\n",
    "    set_num_threads(previous_threads)\n",
    "    return time.time() - start\n",
    "\n",
    "run_experiment(500)\n",
    "#if __name__ == \"__main__\":\n",
    "#   run_experiment(500)"
   ]
  },
  {
   "cell_type": "code",
   "execution_count": null,
   "id": "ff62be27-0590-4f47-9a07-55fe16d07573",
   "metadata": {},
   "outputs": [],
   "source": [
    "## numpy fast numerical expression numexp evaluate diffusion_2D"
   ]
  },
  {
   "cell_type": "code",
   "execution_count": 13,
   "id": "1dfbe4d1-052e-46b5-aa6e-c949e5414686",
   "metadata": {},
   "outputs": [
    {
     "data": {
      "text/plain": [
       "0.7970559597015381"
      ]
     },
     "execution_count": 13,
     "metadata": {},
     "output_type": "execute_result"
    }
   ],
   "source": [
    "#!/usr/bin/env python3\n",
    "\n",
    "import time\n",
    "\n",
    "import numexpr as ne\n",
    "from numpy import copyto, multiply, zeros\n",
    "\n",
    "try:\n",
    "    profile\n",
    "except NameError:\n",
    "    profile = lambda x: x\n",
    "\n",
    "grid_shape = (640, 640)\n",
    "\n",
    "\n",
    "def roll_add(rollee, shift, axis, out):\n",
    "    if shift == 1 and axis == 0:\n",
    "        out[1:, :] += rollee[:-1, :]\n",
    "        out[0, :] += rollee[-1, :]\n",
    "    elif shift == -1 and axis == 0:\n",
    "        out[:-1, :] += rollee[1:, :]\n",
    "        out[-1, :] += rollee[0, :]\n",
    "    elif shift == 1 and axis == 1:\n",
    "        out[:, 1:] += rollee[:, :-1]\n",
    "        out[:, 0] += rollee[:, -1]\n",
    "    elif shift == -1 and axis == 1:\n",
    "        out[:, :-1] += rollee[:, 1:]\n",
    "        out[:, -1] += rollee[:, 0]\n",
    "\n",
    "\n",
    "def laplacian(grid, out):\n",
    "    copyto(out, grid)\n",
    "    multiply(out, -4.0, out)\n",
    "    roll_add(grid, +1, 0, out)\n",
    "    roll_add(grid, -1, 0, out)\n",
    "    roll_add(grid, +1, 1, out)\n",
    "    roll_add(grid, -1, 1, out)\n",
    "\n",
    "\n",
    "@profile\n",
    "def evolve(grid, dt, out, D=1):\n",
    "    laplacian(grid, out)\n",
    "    ne.evaluate(\"out*D*dt+grid\", out=out)\n",
    "\n",
    "\n",
    "def run_experiment(num_iterations):\n",
    "    scratch = zeros(grid_shape)\n",
    "    grid = zeros(grid_shape)\n",
    "\n",
    "    block_low = int(grid_shape[0] * 0.4)\n",
    "    block_high = int(grid_shape[0] * 0.5)\n",
    "    grid[block_low:block_high, block_low:block_high] = 0.005\n",
    "\n",
    "    start = time.time()\n",
    "    for i in range(num_iterations):\n",
    "        evolve(grid, 0.1, scratch)\n",
    "        grid, scratch = scratch, grid\n",
    "    return time.time() - start\n",
    "\n",
    "run_experiment(500)\n",
    "#if __name__ == \"__main__\":\n",
    "#    run_experiment(500)"
   ]
  },
  {
   "cell_type": "code",
   "execution_count": null,
   "id": "d509fd04-6735-4c85-b86b-0a94e9075766",
   "metadata": {},
   "outputs": [],
   "source": [
    "## numpy does not use roll() function toimprove performance version : diffusion_2D "
   ]
  },
  {
   "cell_type": "code",
   "execution_count": 14,
   "id": "e6e8e7e9-9ff3-4ca7-9643-76e45e47d4fc",
   "metadata": {},
   "outputs": [
    {
     "data": {
      "text/plain": [
       "0.8047199249267578"
      ]
     },
     "execution_count": 14,
     "metadata": {},
     "output_type": "execute_result"
    }
   ],
   "source": [
    "#!/usr/bin/env python3\n",
    "\n",
    "import time\n",
    "\n",
    "from numpy import add, copyto, multiply, zeros\n",
    "\n",
    "try:\n",
    "    profile\n",
    "except NameError:\n",
    "    profile = lambda x: x\n",
    "\n",
    "grid_shape = (640, 640)\n",
    "\n",
    "\n",
    "def roll_add(rollee, shift, axis, out):\n",
    "    if shift == 1 and axis == 0:\n",
    "        out[1:, :] += rollee[:-1, :]\n",
    "        out[0, :] += rollee[-1, :]\n",
    "    elif shift == -1 and axis == 0:\n",
    "        out[:-1, :] += rollee[1:, :]\n",
    "        out[-1, :] += rollee[0, :]\n",
    "    elif shift == 1 and axis == 1:\n",
    "        out[:, 1:] += rollee[:, :-1]\n",
    "        out[:, 0] += rollee[:, -1]\n",
    "    elif shift == -1 and axis == 1:\n",
    "        out[:, :-1] += rollee[:, 1:]\n",
    "        out[:, -1] += rollee[:, 0]\n",
    "\n",
    "\n",
    "def laplacian(grid, out):\n",
    "    copyto(out, grid)\n",
    "    multiply(out, -4.0, out)\n",
    "    roll_add(grid, +1, 0, out)\n",
    "    roll_add(grid, -1, 0, out)\n",
    "    roll_add(grid, +1, 1, out)\n",
    "    roll_add(grid, -1, 1, out)\n",
    "\n",
    "\n",
    "@profile\n",
    "def evolve(grid, dt, out, D=1):\n",
    "    laplacian(grid, out)\n",
    "    multiply(out, D * dt, out)\n",
    "    add(out, grid, out)\n",
    "\n",
    "\n",
    "def run_experiment(num_iterations):\n",
    "    scratch = zeros(grid_shape)\n",
    "    grid = zeros(grid_shape)\n",
    "\n",
    "    block_low = int(grid_shape[0] * 0.4)\n",
    "    block_high = int(grid_shape[0] * 0.5)\n",
    "    grid[block_low:block_high, block_low:block_high] = 0.005\n",
    "\n",
    "    start = time.time()\n",
    "    for i in range(num_iterations):\n",
    "        evolve(grid, 0.1, scratch)\n",
    "        grid, scratch = scratch, grid\n",
    "    return time.time() - start\n",
    "\n",
    "run_experiment(500)\n",
    "#if __name__ == \"__main__\":\n",
    "#    run_experiment(500)"
   ]
  },
  {
   "cell_type": "code",
   "execution_count": null,
   "id": "580ac2c2-e7e7-401b-9bf1-64653d0347f3",
   "metadata": {},
   "outputs": [],
   "source": [
    "## numpy memory version in place change using += vs = a + b + c"
   ]
  },
  {
   "cell_type": "code",
   "execution_count": 15,
   "id": "b36270dc-d1d6-4c45-a278-08e10b4c7b93",
   "metadata": {},
   "outputs": [
    {
     "data": {
      "text/plain": [
       "0.8421001434326172"
      ]
     },
     "execution_count": 15,
     "metadata": {},
     "output_type": "execute_result"
    }
   ],
   "source": [
    "#!/usr/bin/env python3\n",
    "\n",
    "import time\n",
    "\n",
    "import numpy as np\n",
    "\n",
    "try:\n",
    "    profile\n",
    "except NameError:\n",
    "    profile = lambda x: x\n",
    "\n",
    "grid_shape = (640, 640)\n",
    "\n",
    "\n",
    "def laplacian(grid, out):\n",
    "    np.copyto(out, grid)\n",
    "    out *= -4\n",
    "    out += np.roll(grid, +1, 0)\n",
    "    out += np.roll(grid, -1, 0)\n",
    "    out += np.roll(grid, +1, 1)\n",
    "    out += np.roll(grid, -1, 1)\n",
    "\n",
    "\n",
    "@profile\n",
    "def evolve(grid, dt, out, D=1):\n",
    "    laplacian(grid, out)\n",
    "    out *= D * dt\n",
    "    out += grid\n",
    "\n",
    "\n",
    "def run_experiment(num_iterations):\n",
    "    scratch = np.zeros(grid_shape)\n",
    "    grid = np.zeros(grid_shape)\n",
    "\n",
    "    block_low = int(grid_shape[0] * 0.4)\n",
    "    block_high = int(grid_shape[0] * 0.5)\n",
    "    grid[block_low:block_high, block_low:block_high] = 0.005\n",
    "\n",
    "    start = time.time()\n",
    "    for i in range(num_iterations):\n",
    "        evolve(grid, 0.1, scratch)\n",
    "        grid, scratch = scratch, grid\n",
    "    return time.time() - start\n",
    "\n",
    "run_experiment(500)\n",
    "#if __name__ == \"__main__\":\n",
    "#    run_experiment(500)"
   ]
  },
  {
   "cell_type": "code",
   "execution_count": null,
   "id": "6c76296d-cb5d-40cc-8e94-11b146610cdf",
   "metadata": {},
   "outputs": [],
   "source": [
    "## numpy version"
   ]
  },
  {
   "cell_type": "code",
   "execution_count": 16,
   "id": "e6b51dcb-740b-45b1-9531-54be8b9a1e22",
   "metadata": {},
   "outputs": [
    {
     "name": "stdout",
     "output_type": "stream",
     "text": [
      "Runtime with grid (2048, 2048): 2.5362s\n"
     ]
    }
   ],
   "source": [
    "#!/usr/bin/env python3\n",
    "\n",
    "import timeit\n",
    "\n",
    "from numpy import roll, zeros\n",
    "\n",
    "try:\n",
    "    profile\n",
    "except NameError:\n",
    "    profile = lambda x: x\n",
    "\n",
    "grid_shape = (2048, 2048)\n",
    "\n",
    "\n",
    "def laplacian(grid):\n",
    "    return (\n",
    "        roll(grid, +1, 0)\n",
    "        + roll(grid, -1, 0)\n",
    "        + roll(grid, +1, 1)\n",
    "        + roll(grid, -1, 1)\n",
    "        - 4 * grid\n",
    "    )\n",
    "\n",
    "\n",
    "@profile\n",
    "def evolve(grid, dt, D=1):\n",
    "    return grid + dt * D * laplacian(grid)\n",
    "\n",
    "\n",
    "def run_experiment(num_iterations):\n",
    "    grid = zeros(grid_shape)\n",
    "\n",
    "    block_low = int(grid_shape[0] * 0.4)\n",
    "    block_high = int(grid_shape[0] * 0.5)\n",
    "    grid[block_low:block_high, block_low:block_high] = 0.005\n",
    "\n",
    "    for i in range(num_iterations):\n",
    "        grid = evolve(grid, 0.1)\n",
    "    return grid\n",
    "\n",
    "\"\"\"\n",
    "if __name__ == \"__main__\":\n",
    "    n_iter = 100\n",
    "    N, runtime = timeit.Timer(\n",
    "        f\"run_experiment({n_iter})\", globals=globals()\n",
    "    ).autorange()\n",
    "    print(f\"Runtime with grid {grid_shape}: {runtime / N:0.4f}s\")\n",
    "\"\"\"\n",
    "\n",
    "n_iter = 100\n",
    "N, runtime = timeit.Timer(\n",
    "    f\"run_experiment({n_iter})\", globals=globals()\n",
    ").autorange()\n",
    "print(f\"Runtime with grid {grid_shape}: {runtime / N:0.4f}s\")"
   ]
  }
 ],
 "metadata": {
  "kernelspec": {
   "display_name": "Python 3 (ipykernel)",
   "language": "python",
   "name": "python3"
  },
  "language_info": {
   "codemirror_mode": {
    "name": "ipython",
    "version": 3
   },
   "file_extension": ".py",
   "mimetype": "text/x-python",
   "name": "python",
   "nbconvert_exporter": "python",
   "pygments_lexer": "ipython3",
   "version": "3.11.9"
  }
 },
 "nbformat": 4,
 "nbformat_minor": 5
}
