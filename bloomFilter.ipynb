{
 "cells": [
  {
   "cell_type": "code",
   "execution_count": null,
   "id": "887cf200-a37a-4eba-86bb-a84ad444c9e6",
   "metadata": {},
   "outputs": [],
   "source": [
    "!pip install bitarray\n",
    "!pip install mmh3"
   ]
  },
  {
   "cell_type": "code",
   "execution_count": 1,
   "id": "3210e297-f2a0-46c4-a45e-6af16d6351d9",
   "metadata": {},
   "outputs": [],
   "source": [
    "import math\n",
    "\n",
    "import bitarray\n",
    "import mmh3\n",
    "\n",
    "\n",
    "class BloomFilter:\n",
    "    def __init__(self, capacity, error=0.005):\n",
    "        \"\"\"\n",
    "        Initialize a Bloom filter with given capacity and false positive rate\n",
    "        \"\"\"\n",
    "        self.capacity = capacity\n",
    "        self.error = error\n",
    "        self.num_bits = int((-capacity * math.log(error)) // math.log(2) ** 2 + 1)\n",
    "        self.num_hashes = int((self.num_bits * math.log(2)) // capacity + 1)\n",
    "        self.data = bitarray.bitarray(self.num_bits)\n",
    "\n",
    "    def _indexes(self, key):\n",
    "        h1, h2 = mmh3.hash64(key)\n",
    "        for i in range(self.num_hashes):\n",
    "            yield (h1 + i * h2) % self.num_bits\n",
    "\n",
    "    def add(self, key):\n",
    "        for index in self._indexes(key):\n",
    "            self.data[index] = True                #bitarray convert True to 1 bit\n",
    "\n",
    "    def __contains__(self, key):\n",
    "        return all(self.data[index] for index in self._indexes(key))\n",
    "\n",
    "    def __len__(self):\n",
    "        bit_off_num = self.data.count(True)\n",
    "        bit_off_percent = 1.0 - bit_off_num / self.num_bits\n",
    "        length = -1.0 * self.num_bits * math.log(bit_off_percent) / self.num_hashes\n",
    "        return int(length)\n",
    "\n",
    "    @staticmethod\n",
    "    def union(bloom_a, bloom_b):\n",
    "        assert bloom_a.capacity == bloom_b.capacity, \"Capacities must be equal\"\n",
    "        assert bloom_a.error == bloom_b.error, \"Error rates must be equal\"\n",
    "\n",
    "        bloom_union = BloomFilter(bloom_a.capacity, bloom_a.error)\n",
    "        bloom_union.data = bloom_a.data | bloom_b.data\n",
    "        return bloom_union"
   ]
  },
  {
   "cell_type": "code",
   "execution_count": 2,
   "id": "df494cd9-a5c3-4d81-848d-6dc710437fd1",
   "metadata": {},
   "outputs": [],
   "source": [
    "bloom=BloomFilter(1000000)"
   ]
  },
  {
   "cell_type": "code",
   "execution_count": 4,
   "id": "c718c397-7cde-44ca-b353-f08298907960",
   "metadata": {},
   "outputs": [
    {
     "data": {
      "text/plain": [
       "False"
      ]
     },
     "execution_count": 4,
     "metadata": {},
     "output_type": "execute_result"
    }
   ],
   "source": [
    "for i in range(50):\n",
    "    bloom.add(str(i))     #must add as str, it is a byte type\n",
    "\n",
    "\"51\" in bloom"
   ]
  },
  {
   "cell_type": "code",
   "execution_count": 5,
   "id": "1a4022a4-b534-41f7-a547-6444296442e6",
   "metadata": {},
   "outputs": [],
   "source": [
    "num_false_positives = 0\n",
    "num_true_negatives = 0\n",
    "\n",
    "for i in range(51, 10000):\n",
    "    if str(i) in bloom:\n",
    "        num_false_positives += 1\n",
    "    else: \n",
    "        num_true_negatives += 1\n",
    "        \n"
   ]
  },
  {
   "cell_type": "code",
   "execution_count": 6,
   "id": "bcb3916f-59ee-4422-92c1-29f982f8ea4f",
   "metadata": {},
   "outputs": [
    {
     "data": {
      "text/plain": [
       "0"
      ]
     },
     "execution_count": 6,
     "metadata": {},
     "output_type": "execute_result"
    }
   ],
   "source": [
    "num_false_positives    "
   ]
  },
  {
   "cell_type": "code",
   "execution_count": 7,
   "id": "0f94e881-f152-4e84-9efa-9d08e9eae265",
   "metadata": {},
   "outputs": [
    {
     "data": {
      "text/plain": [
       "9949"
      ]
     },
     "execution_count": 7,
     "metadata": {},
     "output_type": "execute_result"
    }
   ],
   "source": [
    "\n",
    "num_true_negatives\n"
   ]
  },
  {
   "cell_type": "code",
   "execution_count": 9,
   "id": "eec6da6b-ab97-429a-9a1f-6207133e50bd",
   "metadata": {},
   "outputs": [],
   "source": [
    "#import BloomFilter\n",
    "\n",
    "\n",
    "class ScalingBloomFilter:\n",
    "    def __init__(self, capacity, error=0.005, max_fill=0.8, error_tightening_ratio=0.5):\n",
    "        self.capacity = capacity\n",
    "        self.base_error = error\n",
    "        self.max_fill = max_fill\n",
    "        self.items_until_scale = int(capacity * max_fill)\n",
    "        self.error_tightening_ratio = error_tightening_ratio\n",
    "        self.bloom_filters = []\n",
    "        self.current_bloom = None\n",
    "        self._add_bloom()\n",
    "\n",
    "    def _add_bloom(self):\n",
    "        new_error = self.base_error * self.error_tightening_ratio ** len(\n",
    "            self.bloom_filters\n",
    "        )\n",
    "        new_bloom = BloomFilter(self.capacity, new_error)\n",
    "        self.bloom_filters.append(new_bloom)\n",
    "        self.current_bloom = new_bloom\n",
    "        return new_bloom\n",
    "\n",
    "    def add(self, key):\n",
    "        if key in self:\n",
    "            return True\n",
    "        self.current_bloom.add(key)\n",
    "        self.items_until_scale -= 1\n",
    "        if self.items_until_scale == 0:\n",
    "            bloom_size = len(self.current_bloom)\n",
    "            bloom_max_capacity = int(self.current_bloom.capacity * self.max_fill)\n",
    "\n",
    "            # We may have been adding many duplicate values into the Bloom, so\n",
    "            # we need to check if we actually need to scale or if we still have\n",
    "            # space\n",
    "            if bloom_size >= bloom_max_capacity:\n",
    "                self._add_bloom()\n",
    "                self.items_until_scale = bloom_max_capacity\n",
    "            else:\n",
    "                self.items_until_scale = int(bloom_max_capacity - bloom_size)\n",
    "        return False\n",
    "\n",
    "    def __contains__(self, key):\n",
    "        return any(key in bloom for bloom in self.bloom_filters)\n",
    "\n",
    "    def __len__(self):\n",
    "        return int(sum(len(bloom) for bloom in self.bloom_filters))"
   ]
  }
 ],
 "metadata": {
  "kernelspec": {
   "display_name": "Python 3 (ipykernel)",
   "language": "python",
   "name": "python3"
  },
  "language_info": {
   "codemirror_mode": {
    "name": "ipython",
    "version": 3
   },
   "file_extension": ".py",
   "mimetype": "text/x-python",
   "name": "python",
   "nbconvert_exporter": "python",
   "pygments_lexer": "ipython3",
   "version": "3.11.9"
  }
 },
 "nbformat": 4,
 "nbformat_minor": 5
}
