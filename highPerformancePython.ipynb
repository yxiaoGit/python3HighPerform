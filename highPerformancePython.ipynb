{
 "cells": [
  {
   "cell_type": "code",
   "execution_count": 17,
   "id": "434c515c",
   "metadata": {},
   "outputs": [
    {
     "name": "stdout",
     "output_type": "stream",
     "text": [
      "Requirement already satisfied: memory_profiler in ./anaconda3/lib/python3.11/site-packages (0.61.0)\n",
      "Requirement already satisfied: psutil in ./anaconda3/lib/python3.11/site-packages (from memory_profiler) (5.9.0)\n",
      "The memory_profiler extension is already loaded. To reload it, use:\n",
      "  %reload_ext memory_profiler\n"
     ]
    }
   ],
   "source": [
    "!pip3 install -U memory_profiler\n",
    "%load_ext memory_profiler\n"
   ]
  },
  {
   "cell_type": "code",
   "execution_count": 56,
   "id": "c4dd70d5",
   "metadata": {},
   "outputs": [
    {
     "name": "stdout",
     "output_type": "stream",
     "text": [
      "2\n",
      "(10, 9) and ('oo', 'pp')\n",
      "A\n",
      "['A', 'A', 'A', 'A']\n",
      "B\n",
      "['B', 'B']\n",
      "A\n",
      "['A', 'A']\n"
     ]
    }
   ],
   "source": [
    "print(ord(\"R\") & 0b111)\n",
    "\n",
    "data=[(10,'oo'), (9,'pp')]\n",
    "i, data = zip(*data)\n",
    "print(f\"{i} and {data}\")\n",
    "data=['A','A','A','A','B','B','A','A']\n",
    "grp=groupby(data, lambda x:x)\n",
    "for k, v in grp:\n",
    "    print(k)\n",
    "    print(list(v))\n",
    "    \n"
   ]
  },
  {
   "cell_type": "code",
   "execution_count": 4,
   "id": "036e12e4",
   "metadata": {},
   "outputs": [],
   "source": [
    "def fibonacci_list(num_items):\n",
    "    numbers = []\n",
    "    a,b = 0, 1\n",
    "    while len(numbers) < num_items:\n",
    "        numbers.append(a)\n",
    "        a, b = b, a + b\n",
    "    return numbers\n",
    "    "
   ]
  },
  {
   "cell_type": "code",
   "execution_count": 5,
   "id": "3d5f60ce",
   "metadata": {},
   "outputs": [],
   "source": [
    "def fibonacci_gen(num_items):\n",
    "    a,b = 0, 1\n",
    "    while num_items:\n",
    "        yield a\n",
    "        a, b = b, a + b\n",
    "        num_items -= 1\n"
   ]
  },
  {
   "cell_type": "code",
   "execution_count": 6,
   "id": "4f1e9cd6",
   "metadata": {},
   "outputs": [],
   "source": [
    "def test_fibonacci_list():\n",
    "    for i in fibonacci_list(100_000):\n",
    "        pass\n"
   ]
  },
  {
   "cell_type": "code",
   "execution_count": 7,
   "id": "96016929",
   "metadata": {},
   "outputs": [],
   "source": [
    "def test_fibonacci_gen():\n",
    "    for i in fibonacci_gen(100_000):\n",
    "        pass"
   ]
  },
  {
   "cell_type": "code",
   "execution_count": 8,
   "id": "a36170b8",
   "metadata": {},
   "outputs": [
    {
     "name": "stdout",
     "output_type": "stream",
     "text": [
      "191 ms ± 4.65 ms per loop (mean ± std. dev. of 7 runs, 1 loop each)\n"
     ]
    }
   ],
   "source": [
    "%timeit test_fibonacci_list()"
   ]
  },
  {
   "cell_type": "code",
   "execution_count": 18,
   "id": "993d127d",
   "metadata": {},
   "outputs": [
    {
     "name": "stdout",
     "output_type": "stream",
     "text": [
      "peak memory: 477.48 MiB, increment: 401.00 MiB\n"
     ]
    }
   ],
   "source": [
    "%memit test_fibonacci_list()"
   ]
  },
  {
   "cell_type": "code",
   "execution_count": 19,
   "id": "0df9a415",
   "metadata": {},
   "outputs": [
    {
     "name": "stdout",
     "output_type": "stream",
     "text": [
      "123 ms ± 354 µs per loop (mean ± std. dev. of 7 runs, 10 loops each)\n"
     ]
    }
   ],
   "source": [
    "\n",
    "%timeit test_fibonacci_gen()"
   ]
  },
  {
   "cell_type": "code",
   "execution_count": 20,
   "id": "d5f6ab22",
   "metadata": {},
   "outputs": [
    {
     "name": "stdout",
     "output_type": "stream",
     "text": [
      "peak memory: 147.73 MiB, increment: 0.03 MiB\n"
     ]
    }
   ],
   "source": [
    "%memit test_fibonacci_gen()"
   ]
  },
  {
   "cell_type": "markdown",
   "id": "b0f32570",
   "metadata": {},
   "source": [
    "# iterator for infinite series\n"
   ]
  },
  {
   "cell_type": "code",
   "execution_count": 21,
   "id": "7e719f42",
   "metadata": {},
   "outputs": [],
   "source": [
    "def fibonacci_native():\n",
    "    i, j = 0, 1\n",
    "    count = 0\n",
    "    while j <= 5000:\n",
    "        if j % 2:\n",
    "            count += 1\n",
    "        i, j = j, i + j\n",
    "    return count"
   ]
  },
  {
   "cell_type": "code",
   "execution_count": 27,
   "id": "9178e700",
   "metadata": {},
   "outputs": [],
   "source": [
    "def fibonacci():\n",
    "    i, j = 0, 1\n",
    "    while True:\n",
    "        yield i\n",
    "        i, j = j, i + j"
   ]
  },
  {
   "cell_type": "code",
   "execution_count": 24,
   "id": "d9632278",
   "metadata": {},
   "outputs": [],
   "source": [
    "def fibonacci_transform():\n",
    "   \n",
    "    count = 0\n",
    "    for f in fibonacci():\n",
    "        if f > 5000:\n",
    "            break\n",
    "        if f % 2:\n",
    "            count += 1\n",
    "    \n",
    "    return count"
   ]
  },
  {
   "cell_type": "code",
   "execution_count": 36,
   "id": "544a545a",
   "metadata": {},
   "outputs": [],
   "source": [
    "from itertools import takewhile\n",
    "def fibonacci_itertools():\n",
    "    first_5000 = takewhile(lambda x: x <= 5000, \n",
    "                           fibonacci())\n",
    "    return sum(1 for x in first_5000 if x % 2)"
   ]
  },
  {
   "cell_type": "code",
   "execution_count": 30,
   "id": "061d7cad",
   "metadata": {},
   "outputs": [
    {
     "name": "stdout",
     "output_type": "stream",
     "text": [
      "<class 'itertools.takewhile'>\n",
      "13\n"
     ]
    }
   ],
   "source": [
    "print(fibonacci_itertools())"
   ]
  },
  {
   "cell_type": "code",
   "execution_count": 32,
   "id": "c86029db",
   "metadata": {},
   "outputs": [
    {
     "name": "stdout",
     "output_type": "stream",
     "text": [
      "13\n"
     ]
    }
   ],
   "source": [
    "print(fibonacci_transform())"
   ]
  },
  {
   "cell_type": "code",
   "execution_count": 34,
   "id": "928ab133",
   "metadata": {},
   "outputs": [
    {
     "name": "stdout",
     "output_type": "stream",
     "text": [
      "1.11 µs ± 9.18 ns per loop (mean ± std. dev. of 7 runs, 1,000,000 loops each)\n",
      "peak memory: 103.58 MiB, increment: 0.06 MiB\n"
     ]
    }
   ],
   "source": [
    "%timeit fibonacci_transform()\n",
    "%memit fibonacci_transform()"
   ]
  },
  {
   "cell_type": "code",
   "execution_count": 37,
   "id": "5d317900",
   "metadata": {},
   "outputs": [
    {
     "name": "stdout",
     "output_type": "stream",
     "text": [
      "1.83 µs ± 7.09 ns per loop (mean ± std. dev. of 7 runs, 1,000,000 loops each)\n",
      "peak memory: 139.64 MiB, increment: 0.00 MiB\n"
     ]
    }
   ],
   "source": [
    "%timeit fibonacci_itertools()\n",
    "%memit fibonacci_itertools()"
   ]
  },
  {
   "cell_type": "code",
   "execution_count": 38,
   "id": "ed1eb899",
   "metadata": {
    "scrolled": true
   },
   "outputs": [
    {
     "name": "stdout",
     "output_type": "stream",
     "text": [
      "622 ns ± 2.14 ns per loop (mean ± std. dev. of 7 runs, 1,000,000 loops each)\n",
      "peak memory: 139.64 MiB, increment: 0.00 MiB\n"
     ]
    }
   ],
   "source": [
    "%timeit fibonacci_native()\n",
    "%memit fibonacci_native()"
   ]
  },
  {
   "cell_type": "markdown",
   "id": "b0cffa1b",
   "metadata": {},
   "source": [
    "# Lazy generator evaluation\n"
   ]
  },
  {
   "cell_type": "markdown",
   "id": "a0303fed",
   "metadata": {},
   "source": [
    "# islice            allows slicing a potentially infinite generator"
   ]
  },
  {
   "cell_type": "markdown",
   "id": "00245b19",
   "metadata": {},
   "source": [
    "# chain            chains together multiple generators"
   ]
  },
  {
   "cell_type": "markdown",
   "id": "f7bae497",
   "metadata": {},
   "source": [
    "# takewhile     Adds a condition that will end a generator"
   ]
  },
  {
   "cell_type": "markdown",
   "id": "24a2dc35",
   "metadata": {},
   "source": [
    "# cycle             Makes a finite generator infinite by constantly repeating it"
   ]
  },
  {
   "cell_type": "markdown",
   "id": "93f8524c",
   "metadata": {},
   "source": [
    "# an example using generators to analyze a large dataset: temporal data\n",
    "   with 20 years , each line is pwr second, time, value, over 631,152,000 data points. do simple anomaly detection,, using generator to save memory"
   ]
  },
  {
   "cell_type": "code",
   "execution_count": 38,
   "id": "0d23f3c9",
   "metadata": {},
   "outputs": [],
   "source": [
    "from random import normalvariate, randint\n",
    "from itertools import count\n",
    "from datetime import datetime"
   ]
  },
  {
   "cell_type": "code",
   "execution_count": 39,
   "id": "f5fdbb22",
   "metadata": {},
   "outputs": [],
   "source": [
    "def read_data(filename):\n",
    "    with open(filename) as fd:\n",
    "        for line in fd:\n",
    "            data = line.strip().split(',')\n",
    "            timestamp, value = map(int, data)\n",
    "            yield datetime.fromtimestamp(timestamp), value"
   ]
  },
  {
   "cell_type": "code",
   "execution_count": 46,
   "id": "b2a2c885",
   "metadata": {},
   "outputs": [],
   "source": [
    "def read_fake_data(filename, window_size=7 * 60 * 60 * 24, loops=10):\n",
    "    weekminutes=7 * 60 * 60 * 24\n",
    "    window_data=[]\n",
    "    for timestamp in count():\n",
    "        # once a week insert an anomalous data point\n",
    "        if randint(0,  weekminutes-1 ) == 1:\n",
    "            value = 100\n",
    "            #value = normalvariate(0,1)\n",
    "            print(f\"the generated timestamp {dayv} and value: {value}\")\n",
    "        else:\n",
    "            value = normalvariate(0,1)\n",
    "            #value = 100\n",
    "        dayv = datetime.fromtimestamp(timestamp)\n",
    "        #if (value != 100):\n",
    "        #  print(f\"the generated timestamp {dayv} and value: {value}\")\n",
    "        window_data.append((dayv, value))\n",
    "        window_size -=1\n",
    "        if window_size == 0:\n",
    "            yield window_data\n",
    "            window_data=[]\n",
    "            loops -=1\n",
    "            window_size = weekminutes\n",
    "        if loops == 0:\n",
    "            break\n",
    "          \n",
    "       \n",
    "        "
   ]
  },
  {
   "cell_type": "code",
   "execution_count": 47,
   "id": "ed8425e3",
   "metadata": {},
   "outputs": [],
   "source": [
    "from itertools import groupby\n",
    "\n",
    "def groupby_day(iterable):\n",
    "    key = lambda row: row[0].day     ## the timestamp property day.\n",
    "    print(f\"in groupby_day the iterable\")\n",
    "    for day, data_group in groupby(iterable, key):\n",
    "        dataList = list(data_group)\n",
    "        #print(f\"groupby_day  key day is: {day} the datalist size: {len(dataList)}\")\n",
    "        #print(f\"{dataList[0]} {dataList[1]}\")\n",
    "        \n",
    "        yield dataList"
   ]
  },
  {
   "cell_type": "code",
   "execution_count": 48,
   "id": "f996075e",
   "metadata": {},
   "outputs": [],
   "source": [
    "from scipy.stats import normaltest\n",
    "from itertools import filterfalse\n",
    "\n",
    "def is_normal(data, threshold=1e-3):\n",
    "    #print(f\"in is_normal {len(data)}  the data :{data}\")  #data still has datetime in the tuple\n",
    "    _, values = zip(*data)              #this will separate the datetime and value to two list\n",
    "    k2, p_vale = normaltest(values)\n",
    "    if p_vale < threshold:\n",
    "        return False\n",
    "    else:\n",
    "        return True"
   ]
  },
  {
   "cell_type": "code",
   "execution_count": 49,
   "id": "43bd9372",
   "metadata": {},
   "outputs": [],
   "source": [
    "def filter_anomalous_groups(data):\n",
    "    yield from filterfalse(is_normal, data)"
   ]
  },
  {
   "cell_type": "code",
   "execution_count": 50,
   "id": "c67efccd",
   "metadata": {},
   "outputs": [],
   "source": [
    "\n",
    "\n",
    "def filter_anomalous_data(data):\n",
    "    data_group = groupby_day(data)\n",
    "    yield from filter_anomalous_groups(data_group)"
   ]
  },
  {
   "cell_type": "code",
   "execution_count": 51,
   "id": "079d644b",
   "metadata": {},
   "outputs": [
    {
     "name": "stdout",
     "output_type": "stream",
     "text": [
      "the generated timestamp 1970-01-03 22:13:28 and value: 100\n",
      "in groupby_day the iterable\n",
      "Anomaly from 1970-01-03 00:00:00 - 1970-01-03 23:59:59\n",
      "the generated timestamp 1970-01-09 14:15:03 and value: 100\n",
      "in groupby_day the iterable\n",
      "Anomaly from 1970-01-09 00:00:00 - 1970-01-09 23:59:59\n",
      "the generated timestamp 1970-01-19 10:25:02 and value: 100\n",
      "in groupby_day the iterable\n",
      "Anomaly from 1970-01-19 00:00:00 - 1970-01-19 23:59:59\n",
      "in groupby_day the iterable\n",
      "the generated timestamp 1970-01-30 00:24:11 and value: 100\n",
      "in groupby_day the iterable\n",
      "Anomaly from 1970-01-30 00:00:00 - 1970-01-30 23:59:59\n",
      "the generated timestamp 1970-02-07 16:50:20 and value: 100\n",
      "the generated timestamp 1970-02-08 02:34:13 and value: 100\n",
      "in groupby_day the iterable\n",
      "Anomaly from 1970-02-07 00:00:00 - 1970-02-07 23:59:59\n",
      "Anomaly from 1970-02-08 00:00:00 - 1970-02-08 23:59:59\n",
      "in groupby_day the iterable\n",
      "in groupby_day the iterable\n",
      "the generated timestamp 1970-02-27 02:36:36 and value: 100\n",
      "the generated timestamp 1970-03-02 03:04:52 and value: 100\n",
      "in groupby_day the iterable\n",
      "Anomaly from 1970-02-27 00:00:00 - 1970-02-27 23:59:59\n",
      "Anomaly from 1970-03-02 00:00:00 - 1970-03-02 23:59:59\n",
      "in groupby_day the iterable\n"
     ]
    }
   ],
   "source": [
    "from itertools import islice\n",
    "\n",
    "   \n",
    "filename=\"testdata.txt\"\n",
    "for window_data in read_fake_data(filename):\n",
    "    data_list = list(window_data)\n",
    "    #print(f\"data from simulated: {len(data_list)}\")\n",
    "    #day, value = data_list[0]\n",
    "    #print(f\"the day is {day} and value is {value}\")\n",
    "    anomaly_generator = filter_anomalous_data(data_list)\n",
    "    first_five_anomalies = islice(anomaly_generator, 5)\n",
    "\n",
    "    for data_anomaly in first_five_anomalies:\n",
    "        start_date = data_anomaly[0][0]\n",
    "        end_date = data_anomaly[-1][0]\n",
    "        print(f\"Anomaly from {start_date} - {end_date}\")"
   ]
  },
  {
   "cell_type": "code",
   "execution_count": 37,
   "id": "f4aa6112",
   "metadata": {},
   "outputs": [
    {
     "name": "stdout",
     "output_type": "stream",
     "text": [
      "p = 3.27207e-11\n",
      "The null hypothesis can be rejected\n"
     ]
    }
   ],
   "source": [
    "from scipy import stats\n",
    "import numpy as np\n",
    "pts = 1000\n",
    "np.random.seed(28041990)\n",
    "a = np.random.normal(0, 1, size=pts)\n",
    "b = np.random.normal(2, 1, size=pts)\n",
    "x = np.concatenate((a, b))\n",
    "k2, p = stats.normaltest(x)\n",
    "alpha = 1e-3\n",
    "print(\"p = {:g}\".format(p))\n",
    "if p < alpha:  # null hypothesis: x comes from a normal distribution\n",
    "    print(\"The null hypothesis can be rejected\")\n",
    "else:\n",
    "    print(\"The null hypothesis cannot be rejected\")"
   ]
  },
  {
   "cell_type": "code",
   "execution_count": null,
   "id": "e530eb85",
   "metadata": {},
   "outputs": [],
   "source": []
  }
 ],
 "metadata": {
  "kernelspec": {
   "display_name": "Python 3 (ipykernel)",
   "language": "python",
   "name": "python3"
  },
  "language_info": {
   "codemirror_mode": {
    "name": "ipython",
    "version": 3
   },
   "file_extension": ".py",
   "mimetype": "text/x-python",
   "name": "python",
   "nbconvert_exporter": "python",
   "pygments_lexer": "ipython3",
   "version": "3.11.3"
  }
 },
 "nbformat": 4,
 "nbformat_minor": 5
}
