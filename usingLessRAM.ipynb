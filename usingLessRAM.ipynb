{
 "cells": [
  {
   "cell_type": "code",
   "execution_count": null,
   "id": "3190666f-854e-49ef-b846-89402c84ecfd",
   "metadata": {},
   "outputs": [],
   "source": [
    "## Objects for primitives are expensive"
   ]
  },
  {
   "cell_type": "code",
   "execution_count": 2,
   "id": "b4fb798b-796c-4d73-b8c1-f21adddd549e",
   "metadata": {},
   "outputs": [],
   "source": [
    "%load_ext memory_profiler"
   ]
  },
  {
   "cell_type": "code",
   "execution_count": 3,
   "id": "abef3552-23de-4d93-a883-6fe59140a12d",
   "metadata": {},
   "outputs": [
    {
     "name": "stdout",
     "output_type": "stream",
     "text": [
      "peak memory: 71.02 MiB, increment: 0.48 MiB\n"
     ]
    }
   ],
   "source": [
    "%memit"
   ]
  },
  {
   "cell_type": "code",
   "execution_count": 5,
   "id": "cf1f4683-d033-44a3-a915-9b40df64f155",
   "metadata": {},
   "outputs": [
    {
     "name": "stderr",
     "output_type": "stream",
     "text": [
      "/Users/yingxiao/anaconda3/lib/python3.11/multiprocessing/resource_tracker.py:123: UserWarning: resource_tracker: process died unexpectedly, relaunching.  Some resources might leak.\n",
      "  warnings.warn('resource_tracker: process died unexpectedly, '\n"
     ]
    },
    {
     "name": "stdout",
     "output_type": "stream",
     "text": [
      "peak memory: 773.53 MiB, increment: 701.53 MiB\n"
     ]
    }
   ],
   "source": [
    "%memit [n for n in range(int(1e8))]"
   ]
  },
  {
   "cell_type": "code",
   "execution_count": 6,
   "id": "0c56d7ab-fcb0-44f4-b388-612b7c44e5bd",
   "metadata": {},
   "outputs": [
    {
     "name": "stdout",
     "output_type": "stream",
     "text": [
      "peak memory: 72.38 MiB, increment: 0.06 MiB\n"
     ]
    }
   ],
   "source": [
    "%memit"
   ]
  },
  {
   "cell_type": "code",
   "execution_count": 7,
   "id": "9ae86a34-eb2a-42b9-9319-154bb3d38d4a",
   "metadata": {},
   "outputs": [
    {
     "name": "stdout",
     "output_type": "stream",
     "text": [
      "peak memory: 637.23 MiB, increment: 564.30 MiB\n"
     ]
    }
   ],
   "source": [
    "import array\n",
    "%memit array.array('l', range(int(1e8)))"
   ]
  },
  {
   "cell_type": "code",
   "execution_count": 8,
   "id": "1e49c0fa-63b2-44e9-85e2-c3bfb13e8c0b",
   "metadata": {},
   "outputs": [
    {
     "data": {
      "text/plain": [
       "8"
      ]
     },
     "execution_count": 8,
     "metadata": {},
     "output_type": "execute_result"
    }
   ],
   "source": [
    "arr = array.array('l')\n",
    "arr.itemsize"
   ]
  },
  {
   "cell_type": "code",
   "execution_count": 11,
   "id": "6ea7df2c-ae00-49f8-aab6-58318a55f75f",
   "metadata": {},
   "outputs": [
    {
     "name": "stdout",
     "output_type": "stream",
     "text": [
      "peak memory: 900.88 MiB, increment: -36.00 MiB\n",
      "peak memory: 1319.98 MiB, increment: 1224.39 MiB\n",
      "100,000,000\n",
      "1,600,000,000\n",
      "16.0\n"
     ]
    },
    {
     "data": {
      "text/plain": [
       "16"
      ]
     },
     "execution_count": 11,
     "metadata": {},
     "output_type": "execute_result"
    }
   ],
   "source": [
    "import numpy as np\n",
    "%memit arr=np.zeros(int(1e8), np.complex128)\n",
    "%memit arr=np.ones(int(1e8), np.complex128)\n",
    "print(f\"{arr.size:,}\")\n",
    "print(f\"{arr.nbytes:,}\")\n",
    "print(f\"{arr.nbytes/arr.size}\")\n",
    "arr.itemsize\n"
   ]
  },
  {
   "cell_type": "code",
   "execution_count": null,
   "id": "3e2c24e4-49a1-4c79-a0ac-9630d63f6d15",
   "metadata": {},
   "outputs": [],
   "source": [
    "## calculating ml cross-entropy -logP(yt|yp) = -(ytlog(yp)+(1-yt)log(1-yp))  yt: 0, 1, yp : [0,1]"
   ]
  },
  {
   "cell_type": "code",
   "execution_count": null,
   "id": "68aa4b9d-8cc4-4d89-bb0b-aa17b61c23a4",
   "metadata": {},
   "outputs": [],
   "source": [
    "## the hiddenn cost of temporaries with large Numpy arrays"
   ]
  },
  {
   "cell_type": "code",
   "execution_count": null,
   "id": "972c2c8e-b1ee-4a76-a706-108b0a734cd8",
   "metadata": {},
   "outputs": [],
   "source": [
    "!pip install ipython_memory_usage"
   ]
  },
  {
   "cell_type": "code",
   "execution_count": 20,
   "id": "1ce75070-21cc-4858-a1b8-2f45d7527337",
   "metadata": {},
   "outputs": [
    {
     "name": "stdout",
     "output_type": "stream",
     "text": [
      "Help on package ipython_memory_usage:\n",
      "\n",
      "NAME\n",
      "    ipython_memory_usage - Profile mem usage envelope of IPython commands and report interactively\n",
      "\n",
      "DESCRIPTION\n",
      "    Use \n",
      "    In[] %load_ext ipython_memory_usage\n",
      "    In[] %imu_start # invoke magic-based tracking and\n",
      "    # %imu_stop to disable\n",
      "\n",
      "PACKAGE CONTENTS\n",
      "    ipython_memory_usage\n",
      "    ipython_memory_usage_perf\n",
      "    perf_process\n",
      "\n",
      "SUBMODULES\n",
      "    imu\n",
      "\n",
      "CLASSES\n",
      "    IPython.core.magic.Magics(traitlets.config.configurable.Configurable)\n",
      "        IPythonMemoryUsageMagics\n",
      "    \n",
      "    class IPythonMemoryUsageMagics(IPython.core.magic.Magics)\n",
      "     |  IPythonMemoryUsageMagics(shell=None, **kwargs)\n",
      "     |  \n",
      "     |  # The class MUST call this class decorator at creation time\n",
      "     |  # https://ipython.readthedocs.io/en/stable/config/custommagics.html\n",
      "     |  \n",
      "     |  Method resolution order:\n",
      "     |      IPythonMemoryUsageMagics\n",
      "     |      IPython.core.magic.Magics\n",
      "     |      traitlets.config.configurable.Configurable\n",
      "     |      traitlets.traitlets.HasTraits\n",
      "     |      traitlets.traitlets.HasDescriptors\n",
      "     |      builtins.object\n",
      "     |  \n",
      "     |  Methods defined here:\n",
      "     |  \n",
      "     |  imu_start(self, line)\n",
      "     |      Start CPU & memory profiling for IPython Memory Usage\n",
      "     |  \n",
      "     |  imu_stop(self, line)\n",
      "     |      End profiling for IPython Memory Usage\n",
      "     |  \n",
      "     |  lmagic(self, line)\n",
      "     |      my line magic\n",
      "     |  \n",
      "     |  ----------------------------------------------------------------------\n",
      "     |  Data and other attributes defined here:\n",
      "     |  \n",
      "     |  __annotations__ = {}\n",
      "     |  \n",
      "     |  magics = {'cell': {}, 'line': {'imu_start': 'imu_start', 'imu_stop': '...\n",
      "     |  \n",
      "     |  registered = True\n",
      "     |  \n",
      "     |  ----------------------------------------------------------------------\n",
      "     |  Methods inherited from IPython.core.magic.Magics:\n",
      "     |  \n",
      "     |  __init__(self, shell=None, **kwargs)\n",
      "     |      Create a configurable given a config config.\n",
      "     |      \n",
      "     |      Parameters\n",
      "     |      ----------\n",
      "     |      config : Config\n",
      "     |          If this is empty, default values are used. If config is a\n",
      "     |          :class:`Config` instance, it will be used to configure the\n",
      "     |          instance.\n",
      "     |      parent : Configurable instance, optional\n",
      "     |          The parent Configurable instance of this object.\n",
      "     |      \n",
      "     |      Notes\n",
      "     |      -----\n",
      "     |      Subclasses of Configurable must call the :meth:`__init__` method of\n",
      "     |      :class:`Configurable` *before* doing anything else and using\n",
      "     |      :func:`super`::\n",
      "     |      \n",
      "     |          class MyConfigurable(Configurable):\n",
      "     |              def __init__(self, config=None):\n",
      "     |                  super(MyConfigurable, self).__init__(config=config)\n",
      "     |                  # Then any other code you need to finish initialization.\n",
      "     |      \n",
      "     |      This ensures that instances will be configured properly.\n",
      "     |  \n",
      "     |  arg_err(self, func)\n",
      "     |      Print docstring if incorrect arguments were passed\n",
      "     |  \n",
      "     |  default_option(self, fn, optstr)\n",
      "     |      Make an entry in the options_table for fn, with value optstr\n",
      "     |  \n",
      "     |  format_latex(self, strng)\n",
      "     |      Format a string for latex inclusion.\n",
      "     |  \n",
      "     |  parse_options(self, arg_str, opt_str, *long_opts, **kw)\n",
      "     |      Parse options passed to an argument string.\n",
      "     |      \n",
      "     |      The interface is similar to that of :func:`getopt.getopt`, but it\n",
      "     |      returns a :class:`~IPython.utils.struct.Struct` with the options as keys\n",
      "     |      and the stripped argument string still as a string.\n",
      "     |      \n",
      "     |      arg_str is quoted as a true sys.argv vector by using shlex.split.\n",
      "     |      This allows us to easily expand variables, glob files, quote\n",
      "     |      arguments, etc.\n",
      "     |      \n",
      "     |      Parameters\n",
      "     |      ----------\n",
      "     |      arg_str : str\n",
      "     |          The arguments to parse.\n",
      "     |      opt_str : str\n",
      "     |          The options specification.\n",
      "     |      mode : str, default 'string'\n",
      "     |          If given as 'list', the argument string is returned as a list (split\n",
      "     |          on whitespace) instead of a string.\n",
      "     |      list_all : bool, default False\n",
      "     |          Put all option values in lists. Normally only options\n",
      "     |          appearing more than once are put in a list.\n",
      "     |      posix : bool, default True\n",
      "     |          Whether to split the input line in POSIX mode or not, as per the\n",
      "     |          conventions outlined in the :mod:`shlex` module from the standard\n",
      "     |          library.\n",
      "     |  \n",
      "     |  ----------------------------------------------------------------------\n",
      "     |  Data and other attributes inherited from IPython.core.magic.Magics:\n",
      "     |  \n",
      "     |  options_table = None\n",
      "     |  \n",
      "     |  shell = None\n",
      "     |  \n",
      "     |  ----------------------------------------------------------------------\n",
      "     |  Methods inherited from traitlets.config.configurable.Configurable:\n",
      "     |  \n",
      "     |  update_config(self, config: 'Config') -> 'None'\n",
      "     |      Update config and load the new values\n",
      "     |  \n",
      "     |  ----------------------------------------------------------------------\n",
      "     |  Class methods inherited from traitlets.config.configurable.Configurable:\n",
      "     |  \n",
      "     |  class_config_rst_doc() -> 'str'\n",
      "     |      Generate rST documentation for this class' config options.\n",
      "     |      \n",
      "     |      Excludes traits defined on parent classes.\n",
      "     |  \n",
      "     |  class_config_section(classes: 't.Sequence[type[HasTraits]] | None' = None) -> 'str'\n",
      "     |      Get the config section for this class.\n",
      "     |      \n",
      "     |      Parameters\n",
      "     |      ----------\n",
      "     |      classes : list, optional\n",
      "     |          The list of other classes in the config file.\n",
      "     |          Used to reduce redundant information.\n",
      "     |  \n",
      "     |  class_get_help(inst: 'HasTraits | None' = None) -> 'str'\n",
      "     |      Get the help string for this class in ReST format.\n",
      "     |      \n",
      "     |      If `inst` is given, its current trait values will be used in place of\n",
      "     |      class defaults.\n",
      "     |  \n",
      "     |  class_get_trait_help(trait: 'TraitType[t.Any, t.Any]', inst: 'HasTraits | None' = None, helptext: 'str | None' = None) -> 'str'\n",
      "     |      Get the helptext string for a single trait.\n",
      "     |      \n",
      "     |      :param inst:\n",
      "     |          If given, its current trait values will be used in place of\n",
      "     |          the class default.\n",
      "     |      :param helptext:\n",
      "     |          If not given, uses the `help` attribute of the current trait.\n",
      "     |  \n",
      "     |  class_print_help(inst: 'HasTraits | None' = None) -> 'None'\n",
      "     |      Get the help string for a single trait and print it.\n",
      "     |  \n",
      "     |  section_names() -> 'list[str]'\n",
      "     |      return section names as a list\n",
      "     |  \n",
      "     |  ----------------------------------------------------------------------\n",
      "     |  Data descriptors inherited from traitlets.config.configurable.Configurable:\n",
      "     |  \n",
      "     |  config\n",
      "     |  \n",
      "     |  parent\n",
      "     |  \n",
      "     |  ----------------------------------------------------------------------\n",
      "     |  Methods inherited from traitlets.traitlets.HasTraits:\n",
      "     |  \n",
      "     |  __getstate__(self) -> 'dict[str, t.Any]'\n",
      "     |      Helper for pickle.\n",
      "     |  \n",
      "     |  __setstate__(self, state: 'dict[str, t.Any]') -> 'None'\n",
      "     |  \n",
      "     |  add_traits(self, **traits: 't.Any') -> 'None'\n",
      "     |      Dynamically add trait attributes to the HasTraits instance.\n",
      "     |  \n",
      "     |  has_trait(self, name: 'str') -> 'bool'\n",
      "     |      Returns True if the object has a trait with the specified name.\n",
      "     |  \n",
      "     |  hold_trait_notifications(self) -> 't.Any'\n",
      "     |      Context manager for bundling trait change notifications and cross\n",
      "     |      validation.\n",
      "     |      \n",
      "     |      Use this when doing multiple trait assignments (init, config), to avoid\n",
      "     |      race conditions in trait notifiers requesting other trait values.\n",
      "     |      All trait notifications will fire after all values have been assigned.\n",
      "     |  \n",
      "     |  notify_change(self, change: 'Bunch') -> 'None'\n",
      "     |      Notify observers of a change event\n",
      "     |  \n",
      "     |  observe(self, handler: 't.Callable[..., t.Any]', names: 'Sentinel | str | t.Iterable[Sentinel | str]' = traitlets.All, type: 'Sentinel | str' = 'change') -> 'None'\n",
      "     |      Setup a handler to be called when a trait changes.\n",
      "     |      \n",
      "     |      This is used to setup dynamic notifications of trait changes.\n",
      "     |      \n",
      "     |      Parameters\n",
      "     |      ----------\n",
      "     |      handler : callable\n",
      "     |          A callable that is called when a trait changes. Its\n",
      "     |          signature should be ``handler(change)``, where ``change`` is a\n",
      "     |          dictionary. The change dictionary at least holds a 'type' key.\n",
      "     |          * ``type``: the type of notification.\n",
      "     |          Other keys may be passed depending on the value of 'type'. In the\n",
      "     |          case where type is 'change', we also have the following keys:\n",
      "     |          * ``owner`` : the HasTraits instance\n",
      "     |          * ``old`` : the old value of the modified trait attribute\n",
      "     |          * ``new`` : the new value of the modified trait attribute\n",
      "     |          * ``name`` : the name of the modified trait attribute.\n",
      "     |      names : list, str, All\n",
      "     |          If names is All, the handler will apply to all traits.  If a list\n",
      "     |          of str, handler will apply to all names in the list.  If a\n",
      "     |          str, the handler will apply just to that name.\n",
      "     |      type : str, All (default: 'change')\n",
      "     |          The type of notification to filter by. If equal to All, then all\n",
      "     |          notifications are passed to the observe handler.\n",
      "     |  \n",
      "     |  on_trait_change(self, handler: 'EventHandler | None' = None, name: 'Sentinel | str | None' = None, remove: 'bool' = False) -> 'None'\n",
      "     |      DEPRECATED: Setup a handler to be called when a trait changes.\n",
      "     |      \n",
      "     |      This is used to setup dynamic notifications of trait changes.\n",
      "     |      \n",
      "     |      Static handlers can be created by creating methods on a HasTraits\n",
      "     |      subclass with the naming convention '_[traitname]_changed'.  Thus,\n",
      "     |      to create static handler for the trait 'a', create the method\n",
      "     |      _a_changed(self, name, old, new) (fewer arguments can be used, see\n",
      "     |      below).\n",
      "     |      \n",
      "     |      If `remove` is True and `handler` is not specified, all change\n",
      "     |      handlers for the specified name are uninstalled.\n",
      "     |      \n",
      "     |      Parameters\n",
      "     |      ----------\n",
      "     |      handler : callable, None\n",
      "     |          A callable that is called when a trait changes.  Its\n",
      "     |          signature can be handler(), handler(name), handler(name, new),\n",
      "     |          handler(name, old, new), or handler(name, old, new, self).\n",
      "     |      name : list, str, None\n",
      "     |          If None, the handler will apply to all traits.  If a list\n",
      "     |          of str, handler will apply to all names in the list.  If a\n",
      "     |          str, the handler will apply just to that name.\n",
      "     |      remove : bool\n",
      "     |          If False (the default), then install the handler.  If True\n",
      "     |          then unintall it.\n",
      "     |  \n",
      "     |  set_trait(self, name: 'str', value: 't.Any') -> 'None'\n",
      "     |      Forcibly sets trait attribute, including read-only attributes.\n",
      "     |  \n",
      "     |  setup_instance(*args: 't.Any', **kwargs: 't.Any') -> 'None'\n",
      "     |      This is called **before** self.__init__ is called.\n",
      "     |  \n",
      "     |  trait_defaults(self, *names: 'str', **metadata: 't.Any') -> 'dict[str, t.Any] | Sentinel'\n",
      "     |      Return a trait's default value or a dictionary of them\n",
      "     |      \n",
      "     |      Notes\n",
      "     |      -----\n",
      "     |      Dynamically generated default values may\n",
      "     |      depend on the current state of the object.\n",
      "     |  \n",
      "     |  trait_has_value(self, name: 'str') -> 'bool'\n",
      "     |      Returns True if the specified trait has a value.\n",
      "     |      \n",
      "     |      This will return false even if ``getattr`` would return a\n",
      "     |      dynamically generated default value. These default values\n",
      "     |      will be recognized as existing only after they have been\n",
      "     |      generated.\n",
      "     |      \n",
      "     |      Example\n",
      "     |      \n",
      "     |      .. code-block:: python\n",
      "     |      \n",
      "     |          class MyClass(HasTraits):\n",
      "     |              i = Int()\n",
      "     |      \n",
      "     |      \n",
      "     |          mc = MyClass()\n",
      "     |          assert not mc.trait_has_value(\"i\")\n",
      "     |          mc.i  # generates a default value\n",
      "     |          assert mc.trait_has_value(\"i\")\n",
      "     |  \n",
      "     |  trait_metadata(self, traitname: 'str', key: 'str', default: 't.Any' = None) -> 't.Any'\n",
      "     |      Get metadata values for trait by key.\n",
      "     |  \n",
      "     |  trait_names(self, **metadata: 't.Any') -> 'list[str]'\n",
      "     |      Get a list of all the names of this class' traits.\n",
      "     |  \n",
      "     |  trait_values(self, **metadata: 't.Any') -> 'dict[str, t.Any]'\n",
      "     |      A ``dict`` of trait names and their values.\n",
      "     |      \n",
      "     |      The metadata kwargs allow functions to be passed in which\n",
      "     |      filter traits based on metadata values.  The functions should\n",
      "     |      take a single value as an argument and return a boolean.  If\n",
      "     |      any function returns False, then the trait is not included in\n",
      "     |      the output.  If a metadata key doesn't exist, None will be passed\n",
      "     |      to the function.\n",
      "     |      \n",
      "     |      Returns\n",
      "     |      -------\n",
      "     |      A ``dict`` of trait names and their values.\n",
      "     |      \n",
      "     |      Notes\n",
      "     |      -----\n",
      "     |      Trait values are retrieved via ``getattr``, any exceptions raised\n",
      "     |      by traits or the operations they may trigger will result in the\n",
      "     |      absence of a trait value in the result ``dict``.\n",
      "     |  \n",
      "     |  traits(self, **metadata: 't.Any') -> 'dict[str, TraitType[t.Any, t.Any]]'\n",
      "     |      Get a ``dict`` of all the traits of this class.  The dictionary\n",
      "     |      is keyed on the name and the values are the TraitType objects.\n",
      "     |      \n",
      "     |      The TraitTypes returned don't know anything about the values\n",
      "     |      that the various HasTrait's instances are holding.\n",
      "     |      \n",
      "     |      The metadata kwargs allow functions to be passed in which\n",
      "     |      filter traits based on metadata values.  The functions should\n",
      "     |      take a single value as an argument and return a boolean.  If\n",
      "     |      any function returns False, then the trait is not included in\n",
      "     |      the output.  If a metadata key doesn't exist, None will be passed\n",
      "     |      to the function.\n",
      "     |  \n",
      "     |  unobserve(self, handler: 't.Callable[..., t.Any]', names: 'Sentinel | str | t.Iterable[Sentinel | str]' = traitlets.All, type: 'Sentinel | str' = 'change') -> 'None'\n",
      "     |      Remove a trait change handler.\n",
      "     |      \n",
      "     |      This is used to unregister handlers to trait change notifications.\n",
      "     |      \n",
      "     |      Parameters\n",
      "     |      ----------\n",
      "     |      handler : callable\n",
      "     |          The callable called when a trait attribute changes.\n",
      "     |      names : list, str, All (default: All)\n",
      "     |          The names of the traits for which the specified handler should be\n",
      "     |          uninstalled. If names is All, the specified handler is uninstalled\n",
      "     |          from the list of notifiers corresponding to all changes.\n",
      "     |      type : str or All (default: 'change')\n",
      "     |          The type of notification to filter by. If All, the specified handler\n",
      "     |          is uninstalled from the list of notifiers corresponding to all types.\n",
      "     |  \n",
      "     |  unobserve_all(self, name: 'str | t.Any' = traitlets.All) -> 'None'\n",
      "     |      Remove trait change handlers of any type for the specified name.\n",
      "     |      If name is not specified, removes all trait notifiers.\n",
      "     |  \n",
      "     |  ----------------------------------------------------------------------\n",
      "     |  Class methods inherited from traitlets.traitlets.HasTraits:\n",
      "     |  \n",
      "     |  class_own_trait_events(name: 'str') -> 'dict[str, EventHandler]'\n",
      "     |      Get a dict of all event handlers defined on this class, not a parent.\n",
      "     |      \n",
      "     |      Works like ``event_handlers``, except for excluding traits from parents.\n",
      "     |  \n",
      "     |  class_own_traits(**metadata: 't.Any') -> 'dict[str, TraitType[t.Any, t.Any]]'\n",
      "     |      Get a dict of all the traitlets defined on this class, not a parent.\n",
      "     |      \n",
      "     |      Works like `class_traits`, except for excluding traits from parents.\n",
      "     |  \n",
      "     |  class_trait_names(**metadata: 't.Any') -> 'list[str]'\n",
      "     |      Get a list of all the names of this class' traits.\n",
      "     |      \n",
      "     |      This method is just like the :meth:`trait_names` method,\n",
      "     |      but is unbound.\n",
      "     |  \n",
      "     |  class_traits(**metadata: 't.Any') -> 'dict[str, TraitType[t.Any, t.Any]]'\n",
      "     |      Get a ``dict`` of all the traits of this class.  The dictionary\n",
      "     |      is keyed on the name and the values are the TraitType objects.\n",
      "     |      \n",
      "     |      This method is just like the :meth:`traits` method, but is unbound.\n",
      "     |      \n",
      "     |      The TraitTypes returned don't know anything about the values\n",
      "     |      that the various HasTrait's instances are holding.\n",
      "     |      \n",
      "     |      The metadata kwargs allow functions to be passed in which\n",
      "     |      filter traits based on metadata values.  The functions should\n",
      "     |      take a single value as an argument and return a boolean.  If\n",
      "     |      any function returns False, then the trait is not included in\n",
      "     |      the output.  If a metadata key doesn't exist, None will be passed\n",
      "     |      to the function.\n",
      "     |  \n",
      "     |  trait_events(name: 'str | None' = None) -> 'dict[str, EventHandler]'\n",
      "     |      Get a ``dict`` of all the event handlers of this class.\n",
      "     |      \n",
      "     |      Parameters\n",
      "     |      ----------\n",
      "     |      name : str (default: None)\n",
      "     |          The name of a trait of this class. If name is ``None`` then all\n",
      "     |          the event handlers of this class will be returned instead.\n",
      "     |      \n",
      "     |      Returns\n",
      "     |      -------\n",
      "     |      The event handlers associated with a trait name, or all event handlers.\n",
      "     |  \n",
      "     |  ----------------------------------------------------------------------\n",
      "     |  Readonly properties inherited from traitlets.traitlets.HasTraits:\n",
      "     |  \n",
      "     |  cross_validation_lock\n",
      "     |      A contextmanager for running a block with our cross validation lock set\n",
      "     |      to True.\n",
      "     |      \n",
      "     |      At the end of the block, the lock's value is restored to its value\n",
      "     |      prior to entering the block.\n",
      "     |  \n",
      "     |  ----------------------------------------------------------------------\n",
      "     |  Static methods inherited from traitlets.traitlets.HasDescriptors:\n",
      "     |  \n",
      "     |  __new__(*args: 't.Any', **kwargs: 't.Any') -> 't.Any'\n",
      "     |      Create and return a new object.  See help(type) for accurate signature.\n",
      "     |  \n",
      "     |  ----------------------------------------------------------------------\n",
      "     |  Data descriptors inherited from traitlets.traitlets.HasDescriptors:\n",
      "     |  \n",
      "     |  __dict__\n",
      "     |      dictionary for instance variables\n",
      "     |  \n",
      "     |  __weakref__\n",
      "     |      list of weak references to the object\n",
      "\n",
      "FUNCTIONS\n",
      "    load_ipython_extension(ipython)\n",
      "        Any module file that define a function named `load_ipython_extension`\n",
      "        can be loaded via `%load_ext module.path` or be configured to be\n",
      "        autoloaded by IPython at startup time.\n",
      "\n",
      "VERSION\n",
      "    1.8.3\n",
      "\n",
      "FILE\n",
      "    /Users/yingxiao/anaconda3/lib/python3.11/site-packages/ipython_memory_usage/__init__.py\n",
      "\n",
      "\n"
     ]
    }
   ],
   "source": [
    "import ipython_memory_usage.ipython_memory_usage as imu; import numpy as np\n",
    "import ipython_memory_usage\n",
    "help(ipython_memory_usage) "
   ]
  },
  {
   "cell_type": "code",
   "execution_count": 21,
   "id": "adb9b6bf-8110-442c-a742-6e0ca473c484",
   "metadata": {},
   "outputs": [
    {
     "name": "stdout",
     "output_type": "stream",
     "text": [
      "Enabling IPython Memory Usage, use %imu_start to begin, %imu_stop to end\n"
     ]
    },
    {
     "data": {
      "text/plain": [
       "'IPython Memory Usage started'"
      ]
     },
     "execution_count": 21,
     "metadata": {},
     "output_type": "execute_result"
    },
    {
     "name": "stdout",
     "output_type": "stream",
     "text": [
      "In [21] used -286.5 MiB RAM in 420.45s (system mean cpu 0%, single max cpu 0%), peaked 0.0 MiB above final usage, current RAM usage now 97.8 MiB\n"
     ]
    }
   ],
   "source": [
    "%load_ext ipython_memory_usage\n",
    "%imu_start"
   ]
  },
  {
   "cell_type": "code",
   "execution_count": 22,
   "id": "6e1cf43a-0130-40f2-b6fe-5c9a1871e765",
   "metadata": {},
   "outputs": [
    {
     "name": "stdout",
     "output_type": "stream",
     "text": [
      "In [22] used 0.0 MiB RAM in 0.11s (system mean cpu 9%, single max cpu 36%), peaked 0.0 MiB above final usage, current RAM usage now 97.9 MiB\n"
     ]
    }
   ],
   "source": [
    "nbr_items=200_000_000"
   ]
  },
  {
   "cell_type": "code",
   "execution_count": 23,
   "id": "88314c18-50d2-4029-a2f3-655a8005daf8",
   "metadata": {},
   "outputs": [
    {
     "name": "stdout",
     "output_type": "stream",
     "text": [
      "In [23] used 399.4 MiB RAM in 1.20s (system mean cpu 21%, single max cpu 100%), peaked 556.5 MiB above final usage, current RAM usage now 497.3 MiB\n"
     ]
    }
   ],
   "source": [
    "yp=np.random.uniform(low=0.0000001, size=nbr_items)"
   ]
  },
  {
   "cell_type": "code",
   "execution_count": 24,
   "id": "4d0692e1-20d5-440e-9d04-4dfa8dddb543",
   "metadata": {},
   "outputs": [
    {
     "name": "stdout",
     "output_type": "stream",
     "text": [
      "In [24] used 454.9 MiB RAM in 0.39s (system mean cpu 22%, single max cpu 70%), peaked 0.0 MiB above final usage, current RAM usage now 952.2 MiB\n"
     ]
    }
   ],
   "source": [
    "yt=np.ones(shape=nbr_items)"
   ]
  },
  {
   "cell_type": "code",
   "execution_count": 25,
   "id": "d1ae4872-8fd9-4141-9e70-cecaa8e24a0d",
   "metadata": {},
   "outputs": [
    {
     "name": "stdout",
     "output_type": "stream",
     "text": [
      "In [25] used 1400.2 MiB RAM in 7.32s (system mean cpu 22%, single max cpu 100%), peaked 1560.2 MiB above final usage, current RAM usage now 2352.3 MiB\n"
     ]
    }
   ],
   "source": [
    "answer=-(yt * np.log(yp) + (1-yt) * np.log(1-yp))"
   ]
  },
  {
   "cell_type": "code",
   "execution_count": 26,
   "id": "533316e8-9d70-40de-9d08-e7e1e120e1ad",
   "metadata": {},
   "outputs": [
    {
     "name": "stdout",
     "output_type": "stream",
     "text": [
      "In [26] used -1502.9 MiB RAM in 0.19s (system mean cpu 7%, single max cpu 29%), peaked 1525.2 MiB above final usage, current RAM usage now 849.5 MiB\n"
     ]
    }
   ],
   "source": [
    "del answer"
   ]
  },
  {
   "cell_type": "code",
   "execution_count": null,
   "id": "efa9235a-e356-4f4d-9cc9-e18f04804d64",
   "metadata": {},
   "outputs": [],
   "source": [
    "## NumExpr breaks the vectorized calculations into cache-efficient chunkd"
   ]
  },
  {
   "cell_type": "code",
   "execution_count": 27,
   "id": "687faec1-84d9-472c-8410-3b361717ecb0",
   "metadata": {},
   "outputs": [
    {
     "name": "stdout",
     "output_type": "stream",
     "text": [
      "In [27] used 5.8 MiB RAM in 0.16s (system mean cpu 7%, single max cpu 28%), peaked 0.0 MiB above final usage, current RAM usage now 855.3 MiB\n"
     ]
    }
   ],
   "source": [
    "import numexpr"
   ]
  },
  {
   "cell_type": "code",
   "execution_count": 32,
   "id": "d907744d-495c-4348-99c7-513202e1eb77",
   "metadata": {},
   "outputs": [
    {
     "name": "stdout",
     "output_type": "stream",
     "text": [
      "In [32] used 212.5 MiB RAM in 1.46s (system mean cpu 55%, single max cpu 100%), peaked 1876.7 MiB above final usage, current RAM usage now 3402.0 MiB\n"
     ]
    }
   ],
   "source": [
    "answer = numexpr.evaluate(\"-(yt * log(yp) + (1-yt) * log(1-yp))\")"
   ]
  },
  {
   "cell_type": "code",
   "execution_count": null,
   "id": "75662957-f06e-4d9d-a36c-ae2eae92bf58",
   "metadata": {},
   "outputs": [],
   "source": [
    "##Pandas eval uses NumExpr if it is available(installed), otherwise will use python interpreter"
   ]
  },
  {
   "cell_type": "code",
   "execution_count": 33,
   "id": "2cb01301-d8e7-42c0-99cb-04e1603bebc7",
   "metadata": {},
   "outputs": [
    {
     "name": "stdout",
     "output_type": "stream",
     "text": [
      "In [33] used 1785.1 MiB RAM in 5.33s (system mean cpu 32%, single max cpu 100%), peaked 785.5 MiB above final usage, current RAM usage now 5187.1 MiB\n"
     ]
    }
   ],
   "source": [
    "df = pd.DataFrame({'yp': np.random.uniform(low=0.0000001, size=nbr_items), \n",
    "                   'yt': np.ones(shape=nbr_items)})\n",
    "answer = df.eval(\"-(yt * log(yp) + (1-yt) * log(1-yp))\")"
   ]
  },
  {
   "cell_type": "code",
   "execution_count": 29,
   "id": "7665fea4-7f14-4c0b-8a88-ef3cbb8fb3f2",
   "metadata": {},
   "outputs": [
    {
     "name": "stdout",
     "output_type": "stream",
     "text": [
      "In [29] used -1468.8 MiB RAM in 18.67s (system mean cpu 17%, single max cpu 93%), peaked 0.0 MiB above final usage, current RAM usage now 3163.1 MiB\n"
     ]
    }
   ],
   "source": [
    "import pandas as p"
   ]
  },
  {
   "cell_type": "code",
   "execution_count": 33,
   "id": "b2228c00",
   "metadata": {},
   "outputs": [
    {
     "name": "stdout",
     "output_type": "stream",
     "text": [
      "In [33] used 1785.1 MiB RAM in 5.33s (system mean cpu 32%, single max cpu 100%), peaked 785.5 MiB above final usage, current RAM usage now 5187.1 MiB\n"
     ]
    }
   ],
   "source": [
    "df = pd.DataFrame({'yp': np.random.uniform(low=0.0000001, size=nbr_items), \n",
    "                   'yt': np.ones(shape=nbr_items)})\n",
    "answer = df.eval(\"-(yt * log(yp) + (1-yt) * log(1-yp))\")"
   ]
  },
  {
   "cell_type": "code",
   "execution_count": 1,
   "id": "2e9bd2b9-0c8d-458a-b17e-ae755daf8096",
   "metadata": {},
   "outputs": [
    {
     "data": {
      "image/png": "[encoded data removed]",
      "text/plain": [
       "<Figure size 640x480 with 2 Axes>"
      ]
     },
     "metadata": {},
     "output_type": "display_data"
    }
   ],
   "source": [
    "import matplotlib.pyplot as plt\n",
    "\n",
    "import pandas as pd\n",
    "import numpy as np\n",
    "#nbr_items = 200_000_000\n",
    "\n",
    "nbr_items = 99\n",
    "yp = np.linspace(0.01, 0.99, nbr_items)\n",
    "yt = np.ones(nbr_items)\n",
    "answer = -(yt * np.log(yp) + ((1-yt) * (np.log(1-yp))))\n",
    "\n",
    "yt0 = np.zeros(nbr_items)\n",
    "answer0 = -(yt0 * np.log(yp) + ((1-yt0) * (np.log(1-yp))))\n",
    "\n",
    "df = pd.DataFrame({'yp': yp, 'yt': yt, 'cross_entropy': answer, 'cross_entropy0': answer0})\n",
    "\n",
    "fig, axs = plt.subplots(ncols=2)\n",
    "ax = axs[0]\n",
    "df.plot(x='yp', y='cross_entropy', ax=ax, label='Error for yt==1')\n",
    "df.plot(x='yp', y='cross_entropy0', ax=ax, label='Error for yt==0', linestyle='--')\n",
    "ax.set_ylabel('Cross Entropy or Error (smaller is better)')\n",
    "ax.set_xlabel('Predicted Probability (yp)')\n",
    "ax.set_title('Cross Entropy error for targets yt 0 and 1')\n",
    "\n",
    "ax = axs[1]\n",
    "logs = np.log(yp)\n",
    "df_log = pd.DataFrame({'yp': yp, 'log_yp': logs})\n",
    "df_log.plot(x='yp', y='log_yp', ax=ax)\n",
    "ax.set_title('Natural Log for x==[0, 1]')\n",
    "ax.set_xlabel('Predicted Probability (yp)')\n",
    "\n",
    "plt.tight_layout()\n",
    "plt.savefig('cross_entropy.png')"
   ]
  }
 ],
 "metadata": {
  "kernelspec": {
   "display_name": "Python 3 (ipykernel)",
   "language": "python",
   "name": "python3"
  },
  "language_info": {
   "codemirror_mode": {
    "name": "ipython",
    "version": 3
   },
   "file_extension": ".py",
   "mimetype": "text/x-python",
   "name": "python",
   "nbconvert_exporter": "python",
   "pygments_lexer": "ipython3",
   "version": "3.11.9"
  }
 },
 "nbformat": 4,
 "nbformat_minor": 5
}
