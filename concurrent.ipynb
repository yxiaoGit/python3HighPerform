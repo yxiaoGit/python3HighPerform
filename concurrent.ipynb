{
 "cells": [
  {
   "cell_type": "code",
   "execution_count": 2,
   "id": "eba79ac4-389a-474a-9d7c-e36f1b34d1f0",
   "metadata": {},
   "outputs": [
    {
     "name": "stdout",
     "output_type": "stream",
     "text": [
      "0\n",
      "1\n",
      "2\n",
      "3\n",
      "4\n",
      "done\n"
     ]
    }
   ],
   "source": [
    "import nest_asyncio\n",
    "import asyncio\n",
    "import time\n",
    "import threading\n",
    "\n",
    "nest_asyncio.apply()\n",
    "async def fn(p):\n",
    "  for i in range(5):\n",
    "    print(i)\n",
    "    await asyncio.sleep(5)\n",
    "  print(\"done\")\n",
    "\n",
    "def thread_driver(p):\n",
    "    loop = asyncio.new_event_loop()\n",
    "    #loop = asyncio.get_event_loop()\n",
    "    loop.run_until_complete(fn(p))\n",
    "\n",
    "\n",
    "thread_driver(2)"
   ]
  },
  {
   "cell_type": "code",
   "execution_count": null,
   "id": "87ebd5fd-a5dc-4a2c-82d2-cc85dacc19bb",
   "metadata": {},
   "outputs": [],
   "source": [
    "# Flask web server, can handle concurrent requests. "
   ]
  },
  {
   "cell_type": "code",
   "execution_count": null,
   "id": "6944c598-fe90-4a2c-90f1-1c68d32039ed",
   "metadata": {},
   "outputs": [],
   "source": [
    "from flask import Flask, request\n",
    "import time\n",
    "import asyncio\n",
    "#from collections import defaultdict\n",
    "#metric_data = defaultdict(list)\n",
    "metric_data = []\n",
    "\n",
    "app = Flask(__name__)\n",
    "\n",
    "def timethis(theFunction):\n",
    "    def toTimeWrapper(*args, **kwargs):\n",
    "          start = time.time()\n",
    "          result = theFunction(*args, **kwargs)\n",
    "          end = time.time()\n",
    "          #metric_data[name].append(\n",
    "          metric_data.append({\"start\": start, \"end\": end, \"dt\": end - start});\n",
    "          print(f\"processed {len(metric_data)} requests\")\n",
    "\n",
    "          return result\n",
    "    return toTimeWrapper\n",
    "\n",
    "\n",
    "@app.route('/add', methods=['GET'])\n",
    "@timethis\n",
    "def add():\n",
    "    number = 99\n",
    "    time.sleep(5)\n",
    "    return str(number)\n",
    "\n",
    "if __name__ == '__main__':\n",
    "    #app.run(debug=True)\n",
    "    app.run(debug=False)"
   ]
  },
  {
   "cell_type": "code",
   "execution_count": null,
   "id": "c42f9c54-5d65-484c-88bc-8036cd5faf7b",
   "metadata": {},
   "outputs": [],
   "source": [
    "# concurrent http clients using asyncio , much faster than sequencial calls"
   ]
  },
  {
   "cell_type": "code",
   "execution_count": null,
   "id": "b87423a3",
   "metadata": {},
   "outputs": [],
   "source": [
    "import nest_asyncio\n",
    "import asyncio\n",
    "import random\n",
    "import string\n",
    "\n",
    "import aiohttp\n",
    "\n",
    "nest_asyncio.apply()\n",
    "\n",
    "def generate_urls(base_url, num_urls):\n",
    "    for i in range(num_urls):\n",
    "        yield base_url + \"\".join(random.sample(string.ascii_lowercase, 10))\n",
    "\n",
    "\n",
    "def chunked_http_client(num_chunks):\n",
    "    \"\"\"\n",
    "    Returns a function that can fetch from a URL, ensuring that only\n",
    "    \"num_chunks\" of simultaneous connects are made.\n",
    "    \"\"\"\n",
    "    semaphore = asyncio.Semaphore(num_chunks)  # <1>\n",
    "\n",
    "    async def http_get(url, client_session):  # <2>\n",
    "        nonlocal semaphore\n",
    "        async with semaphore:\n",
    "            async with client_session.request(\"GET\", url) as response:\n",
    "                return await response.content.read()\n",
    "\n",
    "    return http_get\n",
    "\n",
    "\n",
    "async def run_experiment(base_url, num_iter=1000):\n",
    "    urls = generate_urls(base_url, num_iter)\n",
    "    http_client = chunked_http_client(100)\n",
    "    responses_sum = 0\n",
    "    async with aiohttp.ClientSession() as client_session:\n",
    "        tasks = [http_client(url, client_session) for url in urls]  # <3>\n",
    "        for future in asyncio.as_completed(tasks):  # <4>\n",
    "            data = await future\n",
    "            responses_sum += len(data)\n",
    "    return responses_sum\n",
    "\n",
    "\n",
    "if __name__ == \"__main__\":\n",
    "    import time\n",
    "\n",
    "    loop = asyncio.get_event_loop()\n",
    "    delay = 100\n",
    "    num_iter = 1000\n",
    "\n",
    "    start = time.time()\n",
    "    result = loop.run_until_complete(\n",
    "        #run_experiment(\"http://127.0.0.1:5001/add\")\n",
    "        run_experiment(f\"http://127.0.0.1:5005/add2?name=asyncio&delay={delay}&\", num_iter))\n",
    "        \n",
    "    \n",
    "    end = time.time()\n",
    "    print(f\"Result: {result}, Time: {end - start}\")"
   ]
  },
  {
   "cell_type": "code",
   "execution_count": null,
   "id": "2dff9b67-3bf5-43fd-a8c1-16c733b0d76c",
   "metadata": {},
   "outputs": [],
   "source": [
    "# tornado web server\n",
    "# similiar performance as Flask web server"
   ]
  },
  {
   "cell_type": "code",
   "execution_count": null,
   "id": "815989f7-c204-4ba1-aea7-a3e786a028c1",
   "metadata": {},
   "outputs": [
    {
     "name": "stdout",
     "output_type": "stream",
     "text": [
      "Listening on port: 5005\n"
     ]
    }
   ],
   "source": [
    "import json\n",
    "import time\n",
    "from collections import defaultdict\n",
    "import nest_asyncio\n",
    "\n",
    "from tornado import gen, httpserver, ioloop, options, web\n",
    "\n",
    "\n",
    "nest_asyncio.apply()\n",
    "class AddMetric(web.RequestHandler):\n",
    "    metric_data = defaultdict(list)\n",
    "\n",
    "    async def get(self):\n",
    "        if self.get_argument(\"flush\", False):\n",
    "            json.dump(self.metric_data, open(\"metric_data.json\", \"w+\"))\n",
    "        else:\n",
    "            name = self.get_argument(\"name\", \"asyncio\")\n",
    "            try:\n",
    "                delay = int(self.get_argument(\"delay\", 1024))\n",
    "            except ValueError:\n",
    "                raise web.HTTPError(400, reason=\"Invalid value for delay\")\n",
    "\n",
    "            start = time.time()\n",
    "            #await gen.sleep(delay / 1000.0)\n",
    "            await gen.sleep(5)\n",
    "            self.write(\"42\")\n",
    "            self.finish()\n",
    "            end = time.time()\n",
    "            self.metric_data[name].append(\n",
    "                {\"start\": start, \"end\": end, \"dt\": end - start}\n",
    "            )\n",
    "\n",
    "\n",
    "if __name__ == \"__main__\":\n",
    "    #options.parse_command_line()\n",
    "    #port = options.options.port\n",
    "    port = 5005\n",
    "    application = web.Application([(r\"/add2\", AddMetric)])\n",
    "\n",
    "    http_server = httpserver.HTTPServer(application)\n",
    "    http_server.listen(port)\n",
    "    print((\"Listening on port: {}\".format(port)))\n",
    "    ioloop.IOLoop.instance().start()"
   ]
  },
  {
   "cell_type": "code",
   "execution_count": null,
   "id": "96a179e5-5dff-4235-8325-249da5b87103",
   "metadata": {},
   "outputs": [],
   "source": []
  }
 ],
 "metadata": {
  "kernelspec": {
   "display_name": "Python 3 (ipykernel)",
   "language": "python",
   "name": "python3"
  },
  "language_info": {
   "codemirror_mode": {
    "name": "ipython",
    "version": 3
   },
   "file_extension": ".py",
   "mimetype": "text/x-python",
   "name": "python",
   "nbconvert_exporter": "python",
   "pygments_lexer": "ipython3",
   "version": "3.11.9"
  }
 },
 "nbformat": 4,
 "nbformat_minor": 5
}
